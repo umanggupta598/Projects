{
 "cells": [
  {
   "cell_type": "code",
   "execution_count": 1,
   "id": "94e0ed9e-9a0d-44dc-a4b6-5f2dc07e9183",
   "metadata": {},
   "outputs": [],
   "source": [
    "import pandas as pd\n",
    "import numpy as np\n",
    "import matplotlib.pyplot as plt\n",
    "import seaborn as sns\n",
    "import warnings\n",
    "warnings.filterwarnings('ignore')"
   ]
  },
  {
   "cell_type": "code",
   "execution_count": 2,
   "id": "b898a17f-aae9-48e5-8c34-d400d96143b2",
   "metadata": {},
   "outputs": [],
   "source": [
    "df = pd.read_csv(\"JobSurveyIndia.csv\")\n",
    "df = df.iloc[:,1:]"
   ]
  },
  {
   "cell_type": "code",
   "execution_count": null,
   "id": "40094b31-1ccd-46b3-96ec-8527d7ff2b19",
   "metadata": {},
   "outputs": [],
   "source": [
    "#About Data\n",
    "#A Survey was conducted on wherein students of Indian Colleges answered some questions regarding their Employment expectations after graduating. \n",
    "#Data Was Collected via Google Forms Online.\n",
    "#The Data is primarily based on Choices Of Delhi Students ."
   ]
  },
  {
   "cell_type": "code",
   "execution_count": 3,
   "id": "273c4302-f912-4b99-b91a-bae314d7170b",
   "metadata": {},
   "outputs": [
    {
     "data": {
      "text/html": [
       "<div>\n",
       "<style scoped>\n",
       "    .dataframe tbody tr th:only-of-type {\n",
       "        vertical-align: middle;\n",
       "    }\n",
       "\n",
       "    .dataframe tbody tr th {\n",
       "        vertical-align: top;\n",
       "    }\n",
       "\n",
       "    .dataframe thead th {\n",
       "        text-align: right;\n",
       "    }\n",
       "</style>\n",
       "<table border=\"1\" class=\"dataframe\">\n",
       "  <thead>\n",
       "    <tr style=\"text-align: right;\">\n",
       "      <th></th>\n",
       "      <th>Employment Sector</th>\n",
       "      <th>Employment Background</th>\n",
       "      <th>Public Dealing</th>\n",
       "      <th>Degree</th>\n",
       "      <th>IdealNumberOfWorkdays</th>\n",
       "      <th>IdealYearlyIncome</th>\n",
       "    </tr>\n",
       "  </thead>\n",
       "  <tbody>\n",
       "    <tr>\n",
       "      <th>0</th>\n",
       "      <td>Private Sector</td>\n",
       "      <td>Technical</td>\n",
       "      <td>No</td>\n",
       "      <td>Yes</td>\n",
       "      <td>4.0</td>\n",
       "      <td>More Than 1500K</td>\n",
       "    </tr>\n",
       "    <tr>\n",
       "      <th>1</th>\n",
       "      <td>Private Sector</td>\n",
       "      <td>Art</td>\n",
       "      <td>No</td>\n",
       "      <td>Yes</td>\n",
       "      <td>4.0</td>\n",
       "      <td>600K-900K</td>\n",
       "    </tr>\n",
       "    <tr>\n",
       "      <th>2</th>\n",
       "      <td>Government Sector</td>\n",
       "      <td>Technical</td>\n",
       "      <td>No</td>\n",
       "      <td>Yes</td>\n",
       "      <td>6.0</td>\n",
       "      <td>900K-1200K</td>\n",
       "    </tr>\n",
       "    <tr>\n",
       "      <th>3</th>\n",
       "      <td>Government Sector</td>\n",
       "      <td>Non-Technical</td>\n",
       "      <td>Yes</td>\n",
       "      <td>Yes</td>\n",
       "      <td>4.0</td>\n",
       "      <td>900K-1200K</td>\n",
       "    </tr>\n",
       "    <tr>\n",
       "      <th>4</th>\n",
       "      <td>Private Sector</td>\n",
       "      <td>Technical</td>\n",
       "      <td>No</td>\n",
       "      <td>Yes</td>\n",
       "      <td>5.0</td>\n",
       "      <td>1200K-1500K</td>\n",
       "    </tr>\n",
       "    <tr>\n",
       "      <th>...</th>\n",
       "      <td>...</td>\n",
       "      <td>...</td>\n",
       "      <td>...</td>\n",
       "      <td>...</td>\n",
       "      <td>...</td>\n",
       "      <td>...</td>\n",
       "    </tr>\n",
       "    <tr>\n",
       "      <th>395</th>\n",
       "      <td>Private Sector</td>\n",
       "      <td>Non-Technical</td>\n",
       "      <td>No</td>\n",
       "      <td>Yes</td>\n",
       "      <td>5.0</td>\n",
       "      <td>600K-900K</td>\n",
       "    </tr>\n",
       "    <tr>\n",
       "      <th>396</th>\n",
       "      <td>Government Sector</td>\n",
       "      <td>Non-Technical</td>\n",
       "      <td>Yes</td>\n",
       "      <td>No</td>\n",
       "      <td>4.0</td>\n",
       "      <td>900K-1200K</td>\n",
       "    </tr>\n",
       "    <tr>\n",
       "      <th>397</th>\n",
       "      <td>Government Sector</td>\n",
       "      <td>Non-Technical</td>\n",
       "      <td>Yes</td>\n",
       "      <td>No</td>\n",
       "      <td>4.0</td>\n",
       "      <td>900K-1200K</td>\n",
       "    </tr>\n",
       "    <tr>\n",
       "      <th>398</th>\n",
       "      <td>Government Sector</td>\n",
       "      <td>Non-Technical</td>\n",
       "      <td>No</td>\n",
       "      <td>No</td>\n",
       "      <td>5.0</td>\n",
       "      <td>More Than 1500K</td>\n",
       "    </tr>\n",
       "    <tr>\n",
       "      <th>399</th>\n",
       "      <td>Entrepreneurship</td>\n",
       "      <td>Non-Technical</td>\n",
       "      <td>Yes</td>\n",
       "      <td>No</td>\n",
       "      <td>6.0</td>\n",
       "      <td>900K-1200K</td>\n",
       "    </tr>\n",
       "  </tbody>\n",
       "</table>\n",
       "<p>400 rows × 6 columns</p>\n",
       "</div>"
      ],
      "text/plain": [
       "     Employment Sector Employment Background Public Dealing Degree  \\\n",
       "0       Private Sector             Technical             No    Yes   \n",
       "1       Private Sector                  Art             No    Yes    \n",
       "2    Government Sector             Technical             No    Yes   \n",
       "3    Government Sector         Non-Technical            Yes   Yes    \n",
       "4       Private Sector             Technical             No    Yes   \n",
       "..                 ...                   ...            ...    ...   \n",
       "395     Private Sector         Non-Technical            No    Yes    \n",
       "396  Government Sector         Non-Technical            Yes     No   \n",
       "397  Government Sector         Non-Technical            Yes     No   \n",
       "398  Government Sector         Non-Technical             No     No   \n",
       "399   Entrepreneurship         Non-Technical            Yes     No   \n",
       "\n",
       "     IdealNumberOfWorkdays IdealYearlyIncome  \n",
       "0                      4.0   More Than 1500K  \n",
       "1                      4.0         600K-900K  \n",
       "2                      6.0        900K-1200K  \n",
       "3                      4.0        900K-1200K  \n",
       "4                      5.0       1200K-1500K  \n",
       "..                     ...               ...  \n",
       "395                    5.0         600K-900K  \n",
       "396                    4.0        900K-1200K  \n",
       "397                    4.0        900K-1200K  \n",
       "398                    5.0   More Than 1500K  \n",
       "399                    6.0        900K-1200K  \n",
       "\n",
       "[400 rows x 6 columns]"
      ]
     },
     "execution_count": 3,
     "metadata": {},
     "output_type": "execute_result"
    }
   ],
   "source": [
    "\n",
    "df"
   ]
  },
  {
   "cell_type": "code",
   "execution_count": 4,
   "id": "df4823ae-2a06-46ae-a1eb-d8f7fee78c50",
   "metadata": {},
   "outputs": [],
   "source": [
    "#checking our dataset"
   ]
  },
  {
   "cell_type": "code",
   "execution_count": 5,
   "id": "d9a98b97-ef8d-4536-81fd-e27222f02d99",
   "metadata": {},
   "outputs": [
    {
     "data": {
      "text/plain": [
       "(400, 6)"
      ]
     },
     "execution_count": 5,
     "metadata": {},
     "output_type": "execute_result"
    }
   ],
   "source": [
    "df.shape"
   ]
  },
  {
   "cell_type": "code",
   "execution_count": 6,
   "id": "f5b5994b-11ff-47f6-b82f-cb304a38397f",
   "metadata": {},
   "outputs": [
    {
     "data": {
      "text/plain": [
       "2400"
      ]
     },
     "execution_count": 6,
     "metadata": {},
     "output_type": "execute_result"
    }
   ],
   "source": [
    "df.size"
   ]
  },
  {
   "cell_type": "code",
   "execution_count": 7,
   "id": "27dd21bd-2b90-4091-a90d-cdbbf0e04828",
   "metadata": {},
   "outputs": [
    {
     "name": "stdout",
     "output_type": "stream",
     "text": [
      "<class 'pandas.core.frame.DataFrame'>\n",
      "RangeIndex: 400 entries, 0 to 399\n",
      "Data columns (total 6 columns):\n",
      " #   Column                 Non-Null Count  Dtype  \n",
      "---  ------                 --------------  -----  \n",
      " 0   Employment Sector      400 non-null    object \n",
      " 1   Employment Background  400 non-null    object \n",
      " 2   Public Dealing         400 non-null    object \n",
      " 3   Degree                 400 non-null    object \n",
      " 4   IdealNumberOfWorkdays  400 non-null    float64\n",
      " 5   IdealYearlyIncome      400 non-null    object \n",
      "dtypes: float64(1), object(5)\n",
      "memory usage: 18.9+ KB\n"
     ]
    }
   ],
   "source": [
    "df.info()"
   ]
  },
  {
   "cell_type": "code",
   "execution_count": 8,
   "id": "d5323c74-c922-473f-91d3-13d097d11dcb",
   "metadata": {},
   "outputs": [
    {
     "data": {
      "text/html": [
       "<div>\n",
       "<style scoped>\n",
       "    .dataframe tbody tr th:only-of-type {\n",
       "        vertical-align: middle;\n",
       "    }\n",
       "\n",
       "    .dataframe tbody tr th {\n",
       "        vertical-align: top;\n",
       "    }\n",
       "\n",
       "    .dataframe thead th {\n",
       "        text-align: right;\n",
       "    }\n",
       "</style>\n",
       "<table border=\"1\" class=\"dataframe\">\n",
       "  <thead>\n",
       "    <tr style=\"text-align: right;\">\n",
       "      <th></th>\n",
       "      <th>IdealNumberOfWorkdays</th>\n",
       "    </tr>\n",
       "  </thead>\n",
       "  <tbody>\n",
       "    <tr>\n",
       "      <th>count</th>\n",
       "      <td>400.000000</td>\n",
       "    </tr>\n",
       "    <tr>\n",
       "      <th>mean</th>\n",
       "      <td>4.902500</td>\n",
       "    </tr>\n",
       "    <tr>\n",
       "      <th>std</th>\n",
       "      <td>0.805989</td>\n",
       "    </tr>\n",
       "    <tr>\n",
       "      <th>min</th>\n",
       "      <td>4.000000</td>\n",
       "    </tr>\n",
       "    <tr>\n",
       "      <th>25%</th>\n",
       "      <td>4.000000</td>\n",
       "    </tr>\n",
       "    <tr>\n",
       "      <th>50%</th>\n",
       "      <td>5.000000</td>\n",
       "    </tr>\n",
       "    <tr>\n",
       "      <th>75%</th>\n",
       "      <td>5.000000</td>\n",
       "    </tr>\n",
       "    <tr>\n",
       "      <th>max</th>\n",
       "      <td>7.000000</td>\n",
       "    </tr>\n",
       "  </tbody>\n",
       "</table>\n",
       "</div>"
      ],
      "text/plain": [
       "       IdealNumberOfWorkdays\n",
       "count             400.000000\n",
       "mean                4.902500\n",
       "std                 0.805989\n",
       "min                 4.000000\n",
       "25%                 4.000000\n",
       "50%                 5.000000\n",
       "75%                 5.000000\n",
       "max                 7.000000"
      ]
     },
     "execution_count": 8,
     "metadata": {},
     "output_type": "execute_result"
    }
   ],
   "source": [
    "df.describe()"
   ]
  },
  {
   "cell_type": "code",
   "execution_count": 9,
   "id": "11828b57-7d76-4fb7-ad79-7a7523dddb20",
   "metadata": {},
   "outputs": [
    {
     "data": {
      "text/plain": [
       "361"
      ]
     },
     "execution_count": 9,
     "metadata": {},
     "output_type": "execute_result"
    }
   ],
   "source": [
    "df.duplicated().sum()"
   ]
  },
  {
   "cell_type": "code",
   "execution_count": 10,
   "id": "6b1b4893-4f37-4ee6-b1b5-34d4f65bbb89",
   "metadata": {},
   "outputs": [],
   "source": [
    "#there are 361 duplicates\n",
    "#However dataset naturally contains duplicate rows due to non-unique combinations of features, \n",
    "#removing duplicates could lead to data loss. We will retail the duplicates"
   ]
  },
  {
   "cell_type": "code",
   "execution_count": 11,
   "id": "e7117679-67b1-469e-bdd0-4187eb020924",
   "metadata": {},
   "outputs": [],
   "source": [
    "#checking the dtype of columns"
   ]
  },
  {
   "cell_type": "code",
   "execution_count": 12,
   "id": "d2ecb135-f912-4ead-9550-947e08b82bf8",
   "metadata": {},
   "outputs": [
    {
     "name": "stdout",
     "output_type": "stream",
     "text": [
      "<class 'pandas.core.frame.DataFrame'>\n",
      "RangeIndex: 400 entries, 0 to 399\n",
      "Data columns (total 6 columns):\n",
      " #   Column                 Non-Null Count  Dtype  \n",
      "---  ------                 --------------  -----  \n",
      " 0   Employment Sector      400 non-null    object \n",
      " 1   Employment Background  400 non-null    object \n",
      " 2   Public Dealing         400 non-null    object \n",
      " 3   Degree                 400 non-null    object \n",
      " 4   IdealNumberOfWorkdays  400 non-null    float64\n",
      " 5   IdealYearlyIncome      400 non-null    object \n",
      "dtypes: float64(1), object(5)\n",
      "memory usage: 18.9+ KB\n"
     ]
    }
   ],
   "source": [
    "df.info()"
   ]
  },
  {
   "cell_type": "code",
   "execution_count": 13,
   "id": "4ac35ecd-4c87-4532-822a-c90921d64737",
   "metadata": {},
   "outputs": [],
   "source": [
    "#there are no null values in the dataset"
   ]
  },
  {
   "cell_type": "code",
   "execution_count": 14,
   "id": "6c8fab30-3b99-4b11-801b-d448dd3e7c65",
   "metadata": {},
   "outputs": [
    {
     "data": {
      "text/plain": [
       "array([4., 6., 5., 7.])"
      ]
     },
     "execution_count": 14,
     "metadata": {},
     "output_type": "execute_result"
    }
   ],
   "source": [
    "df.IdealNumberOfWorkdays.unique()"
   ]
  },
  {
   "cell_type": "code",
   "execution_count": 15,
   "id": "b426361a-1f93-4cf3-8776-b245ef6fbec2",
   "metadata": {},
   "outputs": [],
   "source": [
    "df.IdealNumberOfWorkdays = df.IdealNumberOfWorkdays.astype(int)"
   ]
  },
  {
   "cell_type": "code",
   "execution_count": 16,
   "id": "f30a6645-774c-4689-ae7d-562016cedcb8",
   "metadata": {},
   "outputs": [
    {
     "name": "stdout",
     "output_type": "stream",
     "text": [
      "<class 'pandas.core.frame.DataFrame'>\n",
      "RangeIndex: 400 entries, 0 to 399\n",
      "Data columns (total 6 columns):\n",
      " #   Column                 Non-Null Count  Dtype \n",
      "---  ------                 --------------  ----- \n",
      " 0   Employment Sector      400 non-null    object\n",
      " 1   Employment Background  400 non-null    object\n",
      " 2   Public Dealing         400 non-null    object\n",
      " 3   Degree                 400 non-null    object\n",
      " 4   IdealNumberOfWorkdays  400 non-null    int32 \n",
      " 5   IdealYearlyIncome      400 non-null    object\n",
      "dtypes: int32(1), object(5)\n",
      "memory usage: 17.3+ KB\n"
     ]
    }
   ],
   "source": [
    "df.info()"
   ]
  },
  {
   "cell_type": "code",
   "execution_count": 17,
   "id": "85e7e0db-918f-49fb-89da-9b5303663dd3",
   "metadata": {},
   "outputs": [
    {
     "data": {
      "text/plain": [
       "array(['Private Sector', 'Government Sector', 'Entrepreneurship'],\n",
       "      dtype=object)"
      ]
     },
     "execution_count": 17,
     "metadata": {},
     "output_type": "execute_result"
    }
   ],
   "source": [
    "df['Employment Sector'].unique()"
   ]
  },
  {
   "cell_type": "code",
   "execution_count": 18,
   "id": "569b3de6-7f51-45bb-8b4a-12a7b7b3e3c0",
   "metadata": {},
   "outputs": [
    {
     "data": {
      "text/plain": [
       "array(['Technical', 'Art ', 'Non-Technical', 'Art'], dtype=object)"
      ]
     },
     "execution_count": 18,
     "metadata": {},
     "output_type": "execute_result"
    }
   ],
   "source": [
    "df['Employment Background'].unique()"
   ]
  },
  {
   "cell_type": "code",
   "execution_count": 19,
   "id": "584a6ee3-b374-41c2-a196-5622900897d6",
   "metadata": {},
   "outputs": [
    {
     "data": {
      "text/plain": [
       "array(['Technical', 'Art', 'Non-Technical'], dtype=object)"
      ]
     },
     "execution_count": 19,
     "metadata": {},
     "output_type": "execute_result"
    }
   ],
   "source": [
    "#since art is repeated two times, we need to fix it\n",
    "df['Employment Background']= df['Employment Background'].replace('Art ','Art')\n",
    "df['Employment Background'].unique()"
   ]
  },
  {
   "cell_type": "code",
   "execution_count": 20,
   "id": "ec7bb8a9-1139-4940-8d59-e3fb744a1f3c",
   "metadata": {},
   "outputs": [
    {
     "data": {
      "text/plain": [
       "array(['No', 'No ', 'Yes'], dtype=object)"
      ]
     },
     "execution_count": 20,
     "metadata": {},
     "output_type": "execute_result"
    }
   ],
   "source": [
    "df['Public Dealing'].unique()"
   ]
  },
  {
   "cell_type": "code",
   "execution_count": 21,
   "id": "83a0c443-5128-4dbd-985f-cd53ddf5fe1b",
   "metadata": {},
   "outputs": [
    {
     "data": {
      "text/plain": [
       "array(['No', 'Yes'], dtype=object)"
      ]
     },
     "execution_count": 21,
     "metadata": {},
     "output_type": "execute_result"
    }
   ],
   "source": [
    "#Since no is repeated twice, it needs to be fixed\n",
    "df['Public Dealing'] = df['Public Dealing'].replace('No ', 'No')\n",
    "df['Public Dealing'].unique()"
   ]
  },
  {
   "cell_type": "code",
   "execution_count": 22,
   "id": "5eccde9a-0111-450c-a335-493de1983095",
   "metadata": {},
   "outputs": [
    {
     "data": {
      "text/plain": [
       "array(['Yes', 'Yes ', 'No'], dtype=object)"
      ]
     },
     "execution_count": 22,
     "metadata": {},
     "output_type": "execute_result"
    }
   ],
   "source": [
    "df['Degree'].unique()"
   ]
  },
  {
   "cell_type": "code",
   "execution_count": 23,
   "id": "5491117a-945b-415a-bf50-c74abb0430c0",
   "metadata": {},
   "outputs": [
    {
     "data": {
      "text/plain": [
       "array(['Yes', 'No'], dtype=object)"
      ]
     },
     "execution_count": 23,
     "metadata": {},
     "output_type": "execute_result"
    }
   ],
   "source": [
    "#here also yes is repeated\n",
    "df['Degree'] = df['Degree'].replace('Yes ', 'Yes')\n",
    "df['Degree'].unique()"
   ]
  },
  {
   "cell_type": "code",
   "execution_count": 24,
   "id": "5f0fcbea-5603-443b-9f3b-4979e6a79365",
   "metadata": {},
   "outputs": [
    {
     "data": {
      "text/plain": [
       "array(['More Than 1500K', '600K-900K', '900K-1200K', '1200K-1500K'],\n",
       "      dtype=object)"
      ]
     },
     "execution_count": 24,
     "metadata": {},
     "output_type": "execute_result"
    }
   ],
   "source": [
    "df['IdealYearlyIncome'].unique()"
   ]
  },
  {
   "cell_type": "code",
   "execution_count": 25,
   "id": "c03de861-7fc4-4953-bc48-440beb480cdb",
   "metadata": {},
   "outputs": [
    {
     "name": "stdout",
     "output_type": "stream",
     "text": [
      "<class 'pandas.core.frame.DataFrame'>\n",
      "RangeIndex: 400 entries, 0 to 399\n",
      "Data columns (total 6 columns):\n",
      " #   Column                 Non-Null Count  Dtype \n",
      "---  ------                 --------------  ----- \n",
      " 0   Employment Sector      400 non-null    object\n",
      " 1   Employment Background  400 non-null    object\n",
      " 2   Public Dealing         400 non-null    object\n",
      " 3   Degree                 400 non-null    object\n",
      " 4   IdealNumberOfWorkdays  400 non-null    int32 \n",
      " 5   IdealYearlyIncome      400 non-null    object\n",
      "dtypes: int32(1), object(5)\n",
      "memory usage: 17.3+ KB\n"
     ]
    }
   ],
   "source": [
    "df.info()"
   ]
  },
  {
   "cell_type": "code",
   "execution_count": 26,
   "id": "f1a2f182-1aaf-4d34-89b3-99b08242b276",
   "metadata": {},
   "outputs": [
    {
     "data": {
      "text/html": [
       "<div>\n",
       "<style scoped>\n",
       "    .dataframe tbody tr th:only-of-type {\n",
       "        vertical-align: middle;\n",
       "    }\n",
       "\n",
       "    .dataframe tbody tr th {\n",
       "        vertical-align: top;\n",
       "    }\n",
       "\n",
       "    .dataframe thead th {\n",
       "        text-align: right;\n",
       "    }\n",
       "</style>\n",
       "<table border=\"1\" class=\"dataframe\">\n",
       "  <thead>\n",
       "    <tr style=\"text-align: right;\">\n",
       "      <th></th>\n",
       "      <th>Employment Sector</th>\n",
       "      <th>Employment Background</th>\n",
       "      <th>Public Dealing</th>\n",
       "      <th>Degree</th>\n",
       "      <th>IdealYearlyIncome</th>\n",
       "    </tr>\n",
       "  </thead>\n",
       "  <tbody>\n",
       "    <tr>\n",
       "      <th>count</th>\n",
       "      <td>400</td>\n",
       "      <td>400</td>\n",
       "      <td>400</td>\n",
       "      <td>400</td>\n",
       "      <td>400</td>\n",
       "    </tr>\n",
       "    <tr>\n",
       "      <th>unique</th>\n",
       "      <td>3</td>\n",
       "      <td>3</td>\n",
       "      <td>2</td>\n",
       "      <td>2</td>\n",
       "      <td>4</td>\n",
       "    </tr>\n",
       "    <tr>\n",
       "      <th>top</th>\n",
       "      <td>Government Sector</td>\n",
       "      <td>Non-Technical</td>\n",
       "      <td>No</td>\n",
       "      <td>Yes</td>\n",
       "      <td>900K-1200K</td>\n",
       "    </tr>\n",
       "    <tr>\n",
       "      <th>freq</th>\n",
       "      <td>189</td>\n",
       "      <td>222</td>\n",
       "      <td>205</td>\n",
       "      <td>241</td>\n",
       "      <td>162</td>\n",
       "    </tr>\n",
       "  </tbody>\n",
       "</table>\n",
       "</div>"
      ],
      "text/plain": [
       "        Employment Sector Employment Background Public Dealing Degree  \\\n",
       "count                 400                   400            400    400   \n",
       "unique                  3                     3              2      2   \n",
       "top     Government Sector         Non-Technical             No    Yes   \n",
       "freq                  189                   222            205    241   \n",
       "\n",
       "       IdealYearlyIncome  \n",
       "count                400  \n",
       "unique                 4  \n",
       "top           900K-1200K  \n",
       "freq                 162  "
      ]
     },
     "execution_count": 26,
     "metadata": {},
     "output_type": "execute_result"
    }
   ],
   "source": [
    "df.describe(include='object')"
   ]
  },
  {
   "cell_type": "code",
   "execution_count": 27,
   "id": "b3be9cb2-46c1-4744-a78f-86d3168bec96",
   "metadata": {},
   "outputs": [],
   "source": [
    "#the data is preprocessed\n",
    "#let's perform pandas profiling for better understanding our data"
   ]
  },
  {
   "cell_type": "code",
   "execution_count": 28,
   "id": "56739970-12e1-40a5-850d-883dee431ea2",
   "metadata": {},
   "outputs": [],
   "source": [
    "#!pip install ydata-profiling  "
   ]
  },
  {
   "cell_type": "code",
   "execution_count": 71,
   "id": "8221031c-4386-4aff-b44d-426976d07988",
   "metadata": {},
   "outputs": [],
   "source": [
    "#from ydata_profiling import ProfileReport"
   ]
  },
  {
   "cell_type": "code",
   "execution_count": 30,
   "id": "1b32d6de-8834-483a-97b5-426c27e68aab",
   "metadata": {},
   "outputs": [],
   "source": [
    "#prof = ProfileReport(df)"
   ]
  },
  {
   "cell_type": "code",
   "execution_count": 31,
   "id": "addf2f24-ddea-4eb1-bb78-2eb9632a1e91",
   "metadata": {},
   "outputs": [],
   "source": [
    "#prof.to_file(output_file = 'JobSurveyIndia.html')   #since the report is generated in html, I will comment it out."
   ]
  },
  {
   "cell_type": "code",
   "execution_count": 32,
   "id": "518df02f-bcac-4f3f-a4ab-454a0087cb60",
   "metadata": {},
   "outputs": [],
   "source": [
    "#Univariate Analysis"
   ]
  },
  {
   "cell_type": "code",
   "execution_count": 33,
   "id": "e99161b2-b062-4d83-afac-937e9dc9e22c",
   "metadata": {},
   "outputs": [
    {
     "name": "stdout",
     "output_type": "stream",
     "text": [
      "<class 'pandas.core.frame.DataFrame'>\n",
      "RangeIndex: 400 entries, 0 to 399\n",
      "Data columns (total 6 columns):\n",
      " #   Column                 Non-Null Count  Dtype \n",
      "---  ------                 --------------  ----- \n",
      " 0   Employment Sector      400 non-null    object\n",
      " 1   Employment Background  400 non-null    object\n",
      " 2   Public Dealing         400 non-null    object\n",
      " 3   Degree                 400 non-null    object\n",
      " 4   IdealNumberOfWorkdays  400 non-null    int32 \n",
      " 5   IdealYearlyIncome      400 non-null    object\n",
      "dtypes: int32(1), object(5)\n",
      "memory usage: 17.3+ KB\n"
     ]
    }
   ],
   "source": [
    "df.info()"
   ]
  },
  {
   "cell_type": "code",
   "execution_count": 34,
   "id": "487d10b8-1a9d-4107-b4f0-34fc43ee13d5",
   "metadata": {},
   "outputs": [
    {
     "data": {
      "image/png": "[encoded data removed]",
      "text/plain": [
       "<Figure size 640x480 with 1 Axes>"
      ]
     },
     "metadata": {},
     "output_type": "display_data"
    }
   ],
   "source": [
    "sns.countplot(x=df['Employment Sector'])\n",
    "plt.show()"
   ]
  },
  {
   "cell_type": "code",
   "execution_count": null,
   "id": "d850d7ca-0ec0-4a21-9acf-c7b780c40782",
   "metadata": {},
   "outputs": [],
   "source": [
    "#it can be seen that most no. of the no. of students prefer Government sector, then the private sector and then their own business"
   ]
  },
  {
   "cell_type": "code",
   "execution_count": 75,
   "id": "867ee8f5-92ab-4040-8b4c-2b7f462a72e5",
   "metadata": {},
   "outputs": [
    {
     "data": {
      "text/plain": [
       "<Axes: ylabel='count'>"
      ]
     },
     "execution_count": 75,
     "metadata": {},
     "output_type": "execute_result"
    },
    {
     "data": {
      "image/png": "[encoded data removed]",
      "text/plain": [
       "<Figure size 640x480 with 1 Axes>"
      ]
     },
     "metadata": {},
     "output_type": "display_data"
    }
   ],
   "source": [
    "df['Employment Background'].value_counts().plot(kind='pie', autopct='%.2f%%')"
   ]
  },
  {
   "cell_type": "code",
   "execution_count": 77,
   "id": "28b368ec-75ce-4ec2-a56e-2ec2e0d93c85",
   "metadata": {},
   "outputs": [],
   "source": [
    "#it can be seen that most students prefer non-technical jobs, followed by technical."
   ]
  },
  {
   "cell_type": "code",
   "execution_count": 177,
   "id": "a5c491bf-71ad-421f-bc9c-546bb1fd8dfb",
   "metadata": {},
   "outputs": [
    {
     "data": {
      "image/png": "[encoded data removed]",
      "text/plain": [
       "<Figure size 640x480 with 1 Axes>"
      ]
     },
     "metadata": {},
     "output_type": "display_data"
    }
   ],
   "source": [
    "sns.countplot(x=df['Employment Sector'], hue=df['Degree'])\n",
    "plt.show()"
   ]
  },
  {
   "cell_type": "code",
   "execution_count": 83,
   "id": "b35c6fc3-0883-4425-bb29-74181d8e02aa",
   "metadata": {},
   "outputs": [],
   "source": [
    "#it can be seen from the above chart that students with no degree do not prefer private sectors, \n",
    "#whereas highest no. of degreeholders are interested for private sector."
   ]
  },
  {
   "cell_type": "code",
   "execution_count": 97,
   "id": "a3c34313-17e4-45ed-a32e-8aadf633ddea",
   "metadata": {},
   "outputs": [
    {
     "data": {
      "text/plain": [
       "<Axes: xlabel='Public Dealing', ylabel='count'>"
      ]
     },
     "execution_count": 97,
     "metadata": {},
     "output_type": "execute_result"
    },
    {
     "data": {
      "image/png": "[encoded data removed]",
      "text/plain": [
       "<Figure size 640x480 with 1 Axes>"
      ]
     },
     "metadata": {},
     "output_type": "display_data"
    }
   ],
   "source": [
    "sns.countplot(x=df['Public Dealing'])"
   ]
  },
  {
   "cell_type": "code",
   "execution_count": 99,
   "id": "607a6791-34ca-4f52-b0cf-01f806e52ff2",
   "metadata": {},
   "outputs": [],
   "source": [
    "#It can be said that there is no huge difference between students preferring jobs that require or do not require public dealing"
   ]
  },
  {
   "cell_type": "code",
   "execution_count": 101,
   "id": "c732c74e-e5e1-4070-a45f-94cbde19cecb",
   "metadata": {},
   "outputs": [
    {
     "data": {
      "text/plain": [
       "<Axes: xlabel='count', ylabel='Degree'>"
      ]
     },
     "execution_count": 101,
     "metadata": {},
     "output_type": "execute_result"
    },
    {
     "data": {
      "image/png": "[encoded data removed]",
      "text/plain": [
       "<Figure size 640x480 with 1 Axes>"
      ]
     },
     "metadata": {},
     "output_type": "display_data"
    }
   ],
   "source": [
    "sns.countplot(df['Degree'])"
   ]
  },
  {
   "cell_type": "code",
   "execution_count": 179,
   "id": "2cbf618e-dd04-4ec8-a146-e4c5dddad89f",
   "metadata": {},
   "outputs": [],
   "source": [
    "#there are more students with degree in the data"
   ]
  },
  {
   "cell_type": "code",
   "execution_count": 121,
   "id": "89facaae-50f0-43fc-9fad-e84ad8a5081f",
   "metadata": {},
   "outputs": [
    {
     "data": {
      "text/plain": [
       "<Axes: xlabel='IdealNumberOfWorkdays', ylabel='Density'>"
      ]
     },
     "execution_count": 121,
     "metadata": {},
     "output_type": "execute_result"
    },
    {
     "data": {
      "image/png": "[encoded data removed]",
      "text/plain": [
       "<Figure size 640x480 with 1 Axes>"
      ]
     },
     "metadata": {},
     "output_type": "display_data"
    }
   ],
   "source": [
    "sns.distplot(df['IdealNumberOfWorkdays'])"
   ]
  },
  {
   "cell_type": "code",
   "execution_count": 181,
   "id": "10b110fb-1c24-4a38-b4a3-73262ecbcfc9",
   "metadata": {},
   "outputs": [],
   "source": [
    "#it can be seen that ideal no. of working days for most of the students is 5, followed by 4, and the least ideal is 7 days"
   ]
  },
  {
   "cell_type": "code",
   "execution_count": 131,
   "id": "be02ca20-ebc0-4737-bd75-db99e53a39ba",
   "metadata": {},
   "outputs": [
    {
     "data": {
      "text/plain": [
       "<Axes: ylabel='count'>"
      ]
     },
     "execution_count": 131,
     "metadata": {},
     "output_type": "execute_result"
    },
    {
     "data": {
      "image/png": "[encoded data removed]",
      "text/plain": [
       "<Figure size 640x480 with 1 Axes>"
      ]
     },
     "metadata": {},
     "output_type": "display_data"
    }
   ],
   "source": [
    "df['IdealYearlyIncome'].value_counts().plot(kind='pie', autopct='%.2f%%')"
   ]
  },
  {
   "cell_type": "code",
   "execution_count": 133,
   "id": "b3d50eda-5a15-4c47-a10f-9c4f03f83926",
   "metadata": {},
   "outputs": [],
   "source": [
    "#It can thus be seen that the ideal income is 900k-1200k as per the 40.50% of students"
   ]
  },
  {
   "cell_type": "code",
   "execution_count": 137,
   "id": "2d37f448-a5f0-4168-bc1f-30f73e54b81b",
   "metadata": {},
   "outputs": [],
   "source": [
    "#Bivariate Analysis and Multivariate Analysis"
   ]
  },
  {
   "cell_type": "code",
   "execution_count": 151,
   "id": "541c6ae8-cad7-4f5f-b27e-2993e1665531",
   "metadata": {},
   "outputs": [
    {
     "data": {
      "text/plain": [
       "<Axes: xlabel='Employment Sector', ylabel='IdealNumberOfWorkdays'>"
      ]
     },
     "execution_count": 151,
     "metadata": {},
     "output_type": "execute_result"
    },
    {
     "data": {
      "image/png": "[encoded data removed]",
      "text/plain": [
       "<Figure size 640x480 with 1 Axes>"
      ]
     },
     "metadata": {},
     "output_type": "display_data"
    }
   ],
   "source": [
    "sns.barplot(x=df['Employment Sector'] ,y=df['IdealNumberOfWorkdays'], hue=df['Public Dealing'])"
   ]
  },
  {
   "cell_type": "code",
   "execution_count": 257,
   "id": "6edc5764-68a8-4f7f-945d-f205d73149a5",
   "metadata": {},
   "outputs": [],
   "source": [
    "#it can be seen that the students willing to work in private and government sectors prefer to have somewhere between 4-5 workdays whereas \n",
    "#for students who prefer entrepreneurship tend to have over 6 ideal workdays\n",
    "#Another point is that the students who opt for public dealing prefer fewer workdays than those who don't prefer dealing with public, \n",
    "#however it is the opposite for entrepreneurs "
   ]
  },
  {
   "cell_type": "code",
   "execution_count": 265,
   "id": "9ef420b9-d3f6-48f8-9610-1d2ffe536995",
   "metadata": {},
   "outputs": [
    {
     "data": {
      "text/plain": [
       "<Axes: xlabel='Employment Sector', ylabel='IdealNumberOfWorkdays'>"
      ]
     },
     "execution_count": 265,
     "metadata": {},
     "output_type": "execute_result"
    },
    {
     "data": {
      "image/png": "[encoded data removed]",
      "text/plain": [
       "<Figure size 640x480 with 1 Axes>"
      ]
     },
     "metadata": {},
     "output_type": "display_data"
    }
   ],
   "source": [
    "sns.barplot(x=df['Employment Sector'] ,y=df['IdealNumberOfWorkdays'], hue=df['Degree'])"
   ]
  },
  {
   "cell_type": "code",
   "execution_count": 267,
   "id": "be86a8f5-0b68-4e1b-a0fd-98ad5446818f",
   "metadata": {},
   "outputs": [],
   "source": [
    "#from the above chart it can be seen that student with degree prefer to have fewer than 5 workdays in a job but more than 6 Workdays in entrepreneurship"
   ]
  },
  {
   "cell_type": "code",
   "execution_count": 187,
   "id": "a8494a00-f0ba-4605-bf95-6944d3b4b175",
   "metadata": {},
   "outputs": [
    {
     "data": {
      "text/plain": [
       "IdealYearlyIncome  Employment Background\n",
       "1200K-1500K        Art                       27\n",
       "                   Non-Technical             41\n",
       "                   Technical                 34\n",
       "600K-900K          Art                       12\n",
       "                   Non-Technical             53\n",
       "900K-1200K         Art                       14\n",
       "                   Non-Technical            103\n",
       "                   Technical                 45\n",
       "More Than 1500K    Art                        9\n",
       "                   Non-Technical             25\n",
       "                   Technical                 37\n",
       "Name: IdealYearlyIncome, dtype: int64"
      ]
     },
     "execution_count": 187,
     "metadata": {},
     "output_type": "execute_result"
    },
    {
     "data": {
      "image/png": "[encoded data removed]",
      "text/plain": [
       "<Figure size 640x480 with 1 Axes>"
      ]
     },
     "metadata": {},
     "output_type": "display_data"
    }
   ],
   "source": [
    "sns.barplot(x=df['Employment Background'] ,y=df['IdealNumberOfWorkdays'], hue=df['IdealYearlyIncome'], palette='viridis')\n",
    "df.groupby(['IdealYearlyIncome', 'Employment Background'])['IdealYearlyIncome'].count()"
   ]
  },
  {
   "cell_type": "code",
   "execution_count": 183,
   "id": "e6ac0dcd-57db-41d7-a4f5-520c2e44f9d6",
   "metadata": {},
   "outputs": [],
   "source": [
    "#It can be seen that irrespective of the employment background, students with a high idealYearlyIncome opt for fewer Ideal number of Workdays.\n",
    "#It can further be observed that none of the students willing to work in a technical background and prefer the ideal income to be in the range below 900k"
   ]
  },
  {
   "cell_type": "code",
   "execution_count": 253,
   "id": "eb786215-0a9d-4ab8-864b-fbc8d4e37a6b",
   "metadata": {},
   "outputs": [
    {
     "data": {
      "text/plain": [
       "<Axes: xlabel='Degree', ylabel='IdealNumberOfWorkdays'>"
      ]
     },
     "execution_count": 253,
     "metadata": {},
     "output_type": "execute_result"
    },
    {
     "data": {
      "image/png": "[encoded data removed]",
      "text/plain": [
       "<Figure size 640x480 with 1 Axes>"
      ]
     },
     "metadata": {},
     "output_type": "display_data"
    }
   ],
   "source": [
    "sns.boxplot(x=df['Degree'], y=df['IdealNumberOfWorkdays'])"
   ]
  },
  {
   "cell_type": "code",
   "execution_count": 185,
   "id": "98f9f408-9c00-4f6f-82c8-ce6d23a3e79f",
   "metadata": {},
   "outputs": [],
   "source": [
    "#from the boxplot it can be drawn that students with degree prefer fewer Workdays than the students with no degrees"
   ]
  },
  {
   "cell_type": "code",
   "execution_count": 193,
   "id": "c142344c-a045-4a8a-9f4c-7a54289c260f",
   "metadata": {},
   "outputs": [
    {
     "data": {
      "text/html": [
       "<div>\n",
       "<style scoped>\n",
       "    .dataframe tbody tr th:only-of-type {\n",
       "        vertical-align: middle;\n",
       "    }\n",
       "\n",
       "    .dataframe tbody tr th {\n",
       "        vertical-align: top;\n",
       "    }\n",
       "\n",
       "    .dataframe thead th {\n",
       "        text-align: right;\n",
       "    }\n",
       "</style>\n",
       "<table border=\"1\" class=\"dataframe\">\n",
       "  <thead>\n",
       "    <tr style=\"text-align: right;\">\n",
       "      <th>Employment Sector</th>\n",
       "      <th>Entrepreneurship</th>\n",
       "      <th>Government Sector</th>\n",
       "      <th>Private Sector</th>\n",
       "    </tr>\n",
       "    <tr>\n",
       "      <th>IdealYearlyIncome</th>\n",
       "      <th></th>\n",
       "      <th></th>\n",
       "      <th></th>\n",
       "    </tr>\n",
       "  </thead>\n",
       "  <tbody>\n",
       "    <tr>\n",
       "      <th>1200K-1500K</th>\n",
       "      <td>35</td>\n",
       "      <td>33</td>\n",
       "      <td>34</td>\n",
       "    </tr>\n",
       "    <tr>\n",
       "      <th>600K-900K</th>\n",
       "      <td>3</td>\n",
       "      <td>30</td>\n",
       "      <td>32</td>\n",
       "    </tr>\n",
       "    <tr>\n",
       "      <th>900K-1200K</th>\n",
       "      <td>30</td>\n",
       "      <td>102</td>\n",
       "      <td>30</td>\n",
       "    </tr>\n",
       "    <tr>\n",
       "      <th>More Than 1500K</th>\n",
       "      <td>8</td>\n",
       "      <td>24</td>\n",
       "      <td>39</td>\n",
       "    </tr>\n",
       "  </tbody>\n",
       "</table>\n",
       "</div>"
      ],
      "text/plain": [
       "Employment Sector  Entrepreneurship  Government Sector  Private Sector\n",
       "IdealYearlyIncome                                                     \n",
       "1200K-1500K                      35                 33              34\n",
       "600K-900K                         3                 30              32\n",
       "900K-1200K                       30                102              30\n",
       "More Than 1500K                   8                 24              39"
      ]
     },
     "execution_count": 193,
     "metadata": {},
     "output_type": "execute_result"
    }
   ],
   "source": [
    "pd.crosstab(df['IdealYearlyIncome'], df['Employment Sector'])"
   ]
  },
  {
   "cell_type": "code",
   "execution_count": 247,
   "id": "15f79b44-cf7f-451a-8414-403861e220be",
   "metadata": {},
   "outputs": [
    {
     "data": {
      "text/plain": [
       "<Axes: xlabel='Employment Sector', ylabel='IdealYearlyIncome'>"
      ]
     },
     "execution_count": 247,
     "metadata": {},
     "output_type": "execute_result"
    },
    {
     "data": {
      "image/png": "[encoded data removed]",
      "text/plain": [
       "<Figure size 640x480 with 2 Axes>"
      ]
     },
     "metadata": {},
     "output_type": "display_data"
    }
   ],
   "source": [
    "sns.heatmap(pd.crosstab(df['IdealYearlyIncome'], df['Employment Sector']), annot=True, fmt=\".2f\", cmap='Blues')"
   ]
  },
  {
   "cell_type": "code",
   "execution_count": 207,
   "id": "bdabaf71-7b1e-4642-8198-a3b4600bc6b1",
   "metadata": {},
   "outputs": [],
   "source": [
    "#From the above heatmap it can be analysed that ideal yearly income for majority of students preferring:\n",
    "# Entrepreneurship is 1200k-1500k\n",
    "#Government sector is 900k-1200k\n",
    "#private sector is more than 1500k"
   ]
  },
  {
   "cell_type": "code",
   "execution_count": 241,
   "id": "e22f1b46-2f33-4029-aaa4-7857132e355f",
   "metadata": {},
   "outputs": [
    {
     "data": {
      "text/plain": [
       "<Axes: xlabel='Public Dealing', ylabel='IdealYearlyIncome'>"
      ]
     },
     "execution_count": 241,
     "metadata": {},
     "output_type": "execute_result"
    },
    {
     "data": {
      "image/png": "[encoded data removed]",
      "text/plain": [
       "<Figure size 640x480 with 2 Axes>"
      ]
     },
     "metadata": {},
     "output_type": "display_data"
    }
   ],
   "source": [
    "sns.heatmap(pd.crosstab(df['IdealYearlyIncome'], df['Public Dealing']), annot=True, fmt=\".2f\", cmap=\"Blues\")"
   ]
  },
  {
   "cell_type": "code",
   "execution_count": 243,
   "id": "79ab6334-8201-4369-9898-e31892980026",
   "metadata": {},
   "outputs": [],
   "source": [
    "#From the above heatmap it can be analysed that the majority student who prefer dealing with public consider 900k-1200k to be ideal income, whereas\n",
    "#the student who do not prefer dealing with public consider 1200k-1500k to be ideal income"
   ]
  },
  {
   "cell_type": "code",
   "execution_count": 271,
   "id": "40e6eb32-08cd-452d-af86-77baf429e397",
   "metadata": {},
   "outputs": [],
   "source": [
    "#Modelling"
   ]
  },
  {
   "cell_type": "code",
   "execution_count": 275,
   "id": "54842db5-7dfd-47ce-88e1-8f757d197754",
   "metadata": {},
   "outputs": [
    {
     "data": {
      "text/html": [
       "<div>\n",
       "<style scoped>\n",
       "    .dataframe tbody tr th:only-of-type {\n",
       "        vertical-align: middle;\n",
       "    }\n",
       "\n",
       "    .dataframe tbody tr th {\n",
       "        vertical-align: top;\n",
       "    }\n",
       "\n",
       "    .dataframe thead th {\n",
       "        text-align: right;\n",
       "    }\n",
       "</style>\n",
       "<table border=\"1\" class=\"dataframe\">\n",
       "  <thead>\n",
       "    <tr style=\"text-align: right;\">\n",
       "      <th></th>\n",
       "      <th>Employment Sector</th>\n",
       "      <th>Employment Background</th>\n",
       "      <th>Public Dealing</th>\n",
       "      <th>Degree</th>\n",
       "      <th>IdealNumberOfWorkdays</th>\n",
       "      <th>IdealYearlyIncome</th>\n",
       "    </tr>\n",
       "  </thead>\n",
       "  <tbody>\n",
       "    <tr>\n",
       "      <th>267</th>\n",
       "      <td>Private Sector</td>\n",
       "      <td>Technical</td>\n",
       "      <td>No</td>\n",
       "      <td>Yes</td>\n",
       "      <td>5</td>\n",
       "      <td>1200K-1500K</td>\n",
       "    </tr>\n",
       "    <tr>\n",
       "      <th>115</th>\n",
       "      <td>Private Sector</td>\n",
       "      <td>Non-Technical</td>\n",
       "      <td>Yes</td>\n",
       "      <td>Yes</td>\n",
       "      <td>4</td>\n",
       "      <td>900K-1200K</td>\n",
       "    </tr>\n",
       "    <tr>\n",
       "      <th>99</th>\n",
       "      <td>Entrepreneurship</td>\n",
       "      <td>Non-Technical</td>\n",
       "      <td>No</td>\n",
       "      <td>No</td>\n",
       "      <td>6</td>\n",
       "      <td>900K-1200K</td>\n",
       "    </tr>\n",
       "    <tr>\n",
       "      <th>291</th>\n",
       "      <td>Entrepreneurship</td>\n",
       "      <td>Art</td>\n",
       "      <td>No</td>\n",
       "      <td>Yes</td>\n",
       "      <td>6</td>\n",
       "      <td>1200K-1500K</td>\n",
       "    </tr>\n",
       "    <tr>\n",
       "      <th>342</th>\n",
       "      <td>Government Sector</td>\n",
       "      <td>Technical</td>\n",
       "      <td>No</td>\n",
       "      <td>No</td>\n",
       "      <td>5</td>\n",
       "      <td>More Than 1500K</td>\n",
       "    </tr>\n",
       "  </tbody>\n",
       "</table>\n",
       "</div>"
      ],
      "text/plain": [
       "     Employment Sector Employment Background Public Dealing Degree  \\\n",
       "267     Private Sector             Technical             No    Yes   \n",
       "115     Private Sector         Non-Technical            Yes    Yes   \n",
       "99    Entrepreneurship         Non-Technical             No     No   \n",
       "291   Entrepreneurship                   Art             No    Yes   \n",
       "342  Government Sector             Technical             No     No   \n",
       "\n",
       "     IdealNumberOfWorkdays IdealYearlyIncome  \n",
       "267                      5       1200K-1500K  \n",
       "115                      4        900K-1200K  \n",
       "99                       6        900K-1200K  \n",
       "291                      6       1200K-1500K  \n",
       "342                      5   More Than 1500K  "
      ]
     },
     "execution_count": 275,
     "metadata": {},
     "output_type": "execute_result"
    }
   ],
   "source": [
    "df.sample(5)"
   ]
  },
  {
   "cell_type": "code",
   "execution_count": 279,
   "id": "4e90c6d6-9dd1-4395-9a44-3879e5689400",
   "metadata": {},
   "outputs": [],
   "source": [
    "#Let our model predict that what would be the ideal yearly income for the students with the given inputs\n",
    "#It would be a classification model since it is  a predicting a category"
   ]
  },
  {
   "cell_type": "code",
   "execution_count": 281,
   "id": "2a01e5ba-7857-44f4-85cc-186f42045e11",
   "metadata": {},
   "outputs": [],
   "source": [
    "#Firstly, let's separate our data into input and output col"
   ]
  },
  {
   "cell_type": "code",
   "execution_count": 283,
   "id": "f6e5dc1e-b7e7-4992-b69d-6e60aec3f8e1",
   "metadata": {},
   "outputs": [],
   "source": [
    "df_copy = df"
   ]
  },
  {
   "cell_type": "code",
   "execution_count": 285,
   "id": "0b40c68a-13a1-455b-80ea-e5668804830c",
   "metadata": {},
   "outputs": [
    {
     "data": {
      "text/html": [
       "<div>\n",
       "<style scoped>\n",
       "    .dataframe tbody tr th:only-of-type {\n",
       "        vertical-align: middle;\n",
       "    }\n",
       "\n",
       "    .dataframe tbody tr th {\n",
       "        vertical-align: top;\n",
       "    }\n",
       "\n",
       "    .dataframe thead th {\n",
       "        text-align: right;\n",
       "    }\n",
       "</style>\n",
       "<table border=\"1\" class=\"dataframe\">\n",
       "  <thead>\n",
       "    <tr style=\"text-align: right;\">\n",
       "      <th></th>\n",
       "      <th>Employment Sector</th>\n",
       "      <th>Employment Background</th>\n",
       "      <th>Public Dealing</th>\n",
       "      <th>Degree</th>\n",
       "      <th>IdealNumberOfWorkdays</th>\n",
       "      <th>IdealYearlyIncome</th>\n",
       "    </tr>\n",
       "  </thead>\n",
       "  <tbody>\n",
       "    <tr>\n",
       "      <th>0</th>\n",
       "      <td>Private Sector</td>\n",
       "      <td>Technical</td>\n",
       "      <td>No</td>\n",
       "      <td>Yes</td>\n",
       "      <td>4</td>\n",
       "      <td>More Than 1500K</td>\n",
       "    </tr>\n",
       "    <tr>\n",
       "      <th>1</th>\n",
       "      <td>Private Sector</td>\n",
       "      <td>Art</td>\n",
       "      <td>No</td>\n",
       "      <td>Yes</td>\n",
       "      <td>4</td>\n",
       "      <td>600K-900K</td>\n",
       "    </tr>\n",
       "    <tr>\n",
       "      <th>2</th>\n",
       "      <td>Government Sector</td>\n",
       "      <td>Technical</td>\n",
       "      <td>No</td>\n",
       "      <td>Yes</td>\n",
       "      <td>6</td>\n",
       "      <td>900K-1200K</td>\n",
       "    </tr>\n",
       "    <tr>\n",
       "      <th>3</th>\n",
       "      <td>Government Sector</td>\n",
       "      <td>Non-Technical</td>\n",
       "      <td>Yes</td>\n",
       "      <td>Yes</td>\n",
       "      <td>4</td>\n",
       "      <td>900K-1200K</td>\n",
       "    </tr>\n",
       "    <tr>\n",
       "      <th>4</th>\n",
       "      <td>Private Sector</td>\n",
       "      <td>Technical</td>\n",
       "      <td>No</td>\n",
       "      <td>Yes</td>\n",
       "      <td>5</td>\n",
       "      <td>1200K-1500K</td>\n",
       "    </tr>\n",
       "    <tr>\n",
       "      <th>...</th>\n",
       "      <td>...</td>\n",
       "      <td>...</td>\n",
       "      <td>...</td>\n",
       "      <td>...</td>\n",
       "      <td>...</td>\n",
       "      <td>...</td>\n",
       "    </tr>\n",
       "    <tr>\n",
       "      <th>395</th>\n",
       "      <td>Private Sector</td>\n",
       "      <td>Non-Technical</td>\n",
       "      <td>No</td>\n",
       "      <td>Yes</td>\n",
       "      <td>5</td>\n",
       "      <td>600K-900K</td>\n",
       "    </tr>\n",
       "    <tr>\n",
       "      <th>396</th>\n",
       "      <td>Government Sector</td>\n",
       "      <td>Non-Technical</td>\n",
       "      <td>Yes</td>\n",
       "      <td>No</td>\n",
       "      <td>4</td>\n",
       "      <td>900K-1200K</td>\n",
       "    </tr>\n",
       "    <tr>\n",
       "      <th>397</th>\n",
       "      <td>Government Sector</td>\n",
       "      <td>Non-Technical</td>\n",
       "      <td>Yes</td>\n",
       "      <td>No</td>\n",
       "      <td>4</td>\n",
       "      <td>900K-1200K</td>\n",
       "    </tr>\n",
       "    <tr>\n",
       "      <th>398</th>\n",
       "      <td>Government Sector</td>\n",
       "      <td>Non-Technical</td>\n",
       "      <td>No</td>\n",
       "      <td>No</td>\n",
       "      <td>5</td>\n",
       "      <td>More Than 1500K</td>\n",
       "    </tr>\n",
       "    <tr>\n",
       "      <th>399</th>\n",
       "      <td>Entrepreneurship</td>\n",
       "      <td>Non-Technical</td>\n",
       "      <td>Yes</td>\n",
       "      <td>No</td>\n",
       "      <td>6</td>\n",
       "      <td>900K-1200K</td>\n",
       "    </tr>\n",
       "  </tbody>\n",
       "</table>\n",
       "<p>400 rows × 6 columns</p>\n",
       "</div>"
      ],
      "text/plain": [
       "     Employment Sector Employment Background Public Dealing Degree  \\\n",
       "0       Private Sector             Technical             No    Yes   \n",
       "1       Private Sector                   Art             No    Yes   \n",
       "2    Government Sector             Technical             No    Yes   \n",
       "3    Government Sector         Non-Technical            Yes    Yes   \n",
       "4       Private Sector             Technical             No    Yes   \n",
       "..                 ...                   ...            ...    ...   \n",
       "395     Private Sector         Non-Technical             No    Yes   \n",
       "396  Government Sector         Non-Technical            Yes     No   \n",
       "397  Government Sector         Non-Technical            Yes     No   \n",
       "398  Government Sector         Non-Technical             No     No   \n",
       "399   Entrepreneurship         Non-Technical            Yes     No   \n",
       "\n",
       "     IdealNumberOfWorkdays IdealYearlyIncome  \n",
       "0                        4   More Than 1500K  \n",
       "1                        4         600K-900K  \n",
       "2                        6        900K-1200K  \n",
       "3                        4        900K-1200K  \n",
       "4                        5       1200K-1500K  \n",
       "..                     ...               ...  \n",
       "395                      5         600K-900K  \n",
       "396                      4        900K-1200K  \n",
       "397                      4        900K-1200K  \n",
       "398                      5   More Than 1500K  \n",
       "399                      6        900K-1200K  \n",
       "\n",
       "[400 rows x 6 columns]"
      ]
     },
     "execution_count": 285,
     "metadata": {},
     "output_type": "execute_result"
    }
   ],
   "source": [
    "df_copy"
   ]
  },
  {
   "cell_type": "code",
   "execution_count": 287,
   "id": "f87ac1a1-d936-444b-8b49-c973d8095017",
   "metadata": {},
   "outputs": [
    {
     "data": {
      "text/html": [
       "<div>\n",
       "<style scoped>\n",
       "    .dataframe tbody tr th:only-of-type {\n",
       "        vertical-align: middle;\n",
       "    }\n",
       "\n",
       "    .dataframe tbody tr th {\n",
       "        vertical-align: top;\n",
       "    }\n",
       "\n",
       "    .dataframe thead th {\n",
       "        text-align: right;\n",
       "    }\n",
       "</style>\n",
       "<table border=\"1\" class=\"dataframe\">\n",
       "  <thead>\n",
       "    <tr style=\"text-align: right;\">\n",
       "      <th></th>\n",
       "      <th>Employment Sector</th>\n",
       "      <th>Employment Background</th>\n",
       "      <th>Public Dealing</th>\n",
       "      <th>Degree</th>\n",
       "      <th>IdealNumberOfWorkdays</th>\n",
       "    </tr>\n",
       "  </thead>\n",
       "  <tbody>\n",
       "    <tr>\n",
       "      <th>0</th>\n",
       "      <td>Private Sector</td>\n",
       "      <td>Technical</td>\n",
       "      <td>No</td>\n",
       "      <td>Yes</td>\n",
       "      <td>4</td>\n",
       "    </tr>\n",
       "    <tr>\n",
       "      <th>1</th>\n",
       "      <td>Private Sector</td>\n",
       "      <td>Art</td>\n",
       "      <td>No</td>\n",
       "      <td>Yes</td>\n",
       "      <td>4</td>\n",
       "    </tr>\n",
       "    <tr>\n",
       "      <th>2</th>\n",
       "      <td>Government Sector</td>\n",
       "      <td>Technical</td>\n",
       "      <td>No</td>\n",
       "      <td>Yes</td>\n",
       "      <td>6</td>\n",
       "    </tr>\n",
       "    <tr>\n",
       "      <th>3</th>\n",
       "      <td>Government Sector</td>\n",
       "      <td>Non-Technical</td>\n",
       "      <td>Yes</td>\n",
       "      <td>Yes</td>\n",
       "      <td>4</td>\n",
       "    </tr>\n",
       "    <tr>\n",
       "      <th>4</th>\n",
       "      <td>Private Sector</td>\n",
       "      <td>Technical</td>\n",
       "      <td>No</td>\n",
       "      <td>Yes</td>\n",
       "      <td>5</td>\n",
       "    </tr>\n",
       "    <tr>\n",
       "      <th>...</th>\n",
       "      <td>...</td>\n",
       "      <td>...</td>\n",
       "      <td>...</td>\n",
       "      <td>...</td>\n",
       "      <td>...</td>\n",
       "    </tr>\n",
       "    <tr>\n",
       "      <th>395</th>\n",
       "      <td>Private Sector</td>\n",
       "      <td>Non-Technical</td>\n",
       "      <td>No</td>\n",
       "      <td>Yes</td>\n",
       "      <td>5</td>\n",
       "    </tr>\n",
       "    <tr>\n",
       "      <th>396</th>\n",
       "      <td>Government Sector</td>\n",
       "      <td>Non-Technical</td>\n",
       "      <td>Yes</td>\n",
       "      <td>No</td>\n",
       "      <td>4</td>\n",
       "    </tr>\n",
       "    <tr>\n",
       "      <th>397</th>\n",
       "      <td>Government Sector</td>\n",
       "      <td>Non-Technical</td>\n",
       "      <td>Yes</td>\n",
       "      <td>No</td>\n",
       "      <td>4</td>\n",
       "    </tr>\n",
       "    <tr>\n",
       "      <th>398</th>\n",
       "      <td>Government Sector</td>\n",
       "      <td>Non-Technical</td>\n",
       "      <td>No</td>\n",
       "      <td>No</td>\n",
       "      <td>5</td>\n",
       "    </tr>\n",
       "    <tr>\n",
       "      <th>399</th>\n",
       "      <td>Entrepreneurship</td>\n",
       "      <td>Non-Technical</td>\n",
       "      <td>Yes</td>\n",
       "      <td>No</td>\n",
       "      <td>6</td>\n",
       "    </tr>\n",
       "  </tbody>\n",
       "</table>\n",
       "<p>400 rows × 5 columns</p>\n",
       "</div>"
      ],
      "text/plain": [
       "     Employment Sector Employment Background Public Dealing Degree  \\\n",
       "0       Private Sector             Technical             No    Yes   \n",
       "1       Private Sector                   Art             No    Yes   \n",
       "2    Government Sector             Technical             No    Yes   \n",
       "3    Government Sector         Non-Technical            Yes    Yes   \n",
       "4       Private Sector             Technical             No    Yes   \n",
       "..                 ...                   ...            ...    ...   \n",
       "395     Private Sector         Non-Technical             No    Yes   \n",
       "396  Government Sector         Non-Technical            Yes     No   \n",
       "397  Government Sector         Non-Technical            Yes     No   \n",
       "398  Government Sector         Non-Technical             No     No   \n",
       "399   Entrepreneurship         Non-Technical            Yes     No   \n",
       "\n",
       "     IdealNumberOfWorkdays  \n",
       "0                        4  \n",
       "1                        4  \n",
       "2                        6  \n",
       "3                        4  \n",
       "4                        5  \n",
       "..                     ...  \n",
       "395                      5  \n",
       "396                      4  \n",
       "397                      4  \n",
       "398                      5  \n",
       "399                      6  \n",
       "\n",
       "[400 rows x 5 columns]"
      ]
     },
     "execution_count": 287,
     "metadata": {},
     "output_type": "execute_result"
    }
   ],
   "source": [
    "x= df_copy.iloc[:,0:-1]\n",
    "x"
   ]
  },
  {
   "cell_type": "code",
   "execution_count": 289,
   "id": "d9ea8e09-884e-4c5d-bde7-9e928afdf828",
   "metadata": {},
   "outputs": [
    {
     "data": {
      "text/plain": [
       "0      More Than 1500K\n",
       "1            600K-900K\n",
       "2           900K-1200K\n",
       "3           900K-1200K\n",
       "4          1200K-1500K\n",
       "            ...       \n",
       "395          600K-900K\n",
       "396         900K-1200K\n",
       "397         900K-1200K\n",
       "398    More Than 1500K\n",
       "399         900K-1200K\n",
       "Name: IdealYearlyIncome, Length: 400, dtype: object"
      ]
     },
     "execution_count": 289,
     "metadata": {},
     "output_type": "execute_result"
    }
   ],
   "source": [
    "y = df_copy.iloc[:,-1]\n",
    "y"
   ]
  },
  {
   "cell_type": "code",
   "execution_count": 291,
   "id": "74dcdc32-7c49-4863-90c8-3d4e2b1a37cf",
   "metadata": {},
   "outputs": [],
   "source": [
    "#Now splitting out data into train and test"
   ]
  },
  {
   "cell_type": "code",
   "execution_count": 293,
   "id": "dd574e77-7c7b-476d-b47f-8d1338992bd5",
   "metadata": {},
   "outputs": [],
   "source": [
    "from sklearn.model_selection import train_test_split"
   ]
  },
  {
   "cell_type": "code",
   "execution_count": 295,
   "id": "9888bbe9-ae13-4e4a-9651-90d7ed761a83",
   "metadata": {},
   "outputs": [],
   "source": [
    "x_train, x_test, y_train, y_test = train_test_split(x,y,test_size=0.15)"
   ]
  },
  {
   "cell_type": "code",
   "execution_count": 297,
   "id": "a25e1d1d-2099-4b51-9b5e-04808d74b092",
   "metadata": {},
   "outputs": [
    {
     "data": {
      "text/html": [
       "<div>\n",
       "<style scoped>\n",
       "    .dataframe tbody tr th:only-of-type {\n",
       "        vertical-align: middle;\n",
       "    }\n",
       "\n",
       "    .dataframe tbody tr th {\n",
       "        vertical-align: top;\n",
       "    }\n",
       "\n",
       "    .dataframe thead th {\n",
       "        text-align: right;\n",
       "    }\n",
       "</style>\n",
       "<table border=\"1\" class=\"dataframe\">\n",
       "  <thead>\n",
       "    <tr style=\"text-align: right;\">\n",
       "      <th></th>\n",
       "      <th>Employment Sector</th>\n",
       "      <th>Employment Background</th>\n",
       "      <th>Public Dealing</th>\n",
       "      <th>Degree</th>\n",
       "      <th>IdealNumberOfWorkdays</th>\n",
       "    </tr>\n",
       "  </thead>\n",
       "  <tbody>\n",
       "    <tr>\n",
       "      <th>365</th>\n",
       "      <td>Entrepreneurship</td>\n",
       "      <td>Art</td>\n",
       "      <td>No</td>\n",
       "      <td>Yes</td>\n",
       "      <td>6</td>\n",
       "    </tr>\n",
       "    <tr>\n",
       "      <th>172</th>\n",
       "      <td>Government Sector</td>\n",
       "      <td>Technical</td>\n",
       "      <td>No</td>\n",
       "      <td>No</td>\n",
       "      <td>5</td>\n",
       "    </tr>\n",
       "    <tr>\n",
       "      <th>80</th>\n",
       "      <td>Government Sector</td>\n",
       "      <td>Non-Technical</td>\n",
       "      <td>Yes</td>\n",
       "      <td>No</td>\n",
       "      <td>4</td>\n",
       "    </tr>\n",
       "    <tr>\n",
       "      <th>94</th>\n",
       "      <td>Government Sector</td>\n",
       "      <td>Non-Technical</td>\n",
       "      <td>Yes</td>\n",
       "      <td>Yes</td>\n",
       "      <td>4</td>\n",
       "    </tr>\n",
       "    <tr>\n",
       "      <th>160</th>\n",
       "      <td>Government Sector</td>\n",
       "      <td>Non-Technical</td>\n",
       "      <td>Yes</td>\n",
       "      <td>Yes</td>\n",
       "      <td>4</td>\n",
       "    </tr>\n",
       "    <tr>\n",
       "      <th>...</th>\n",
       "      <td>...</td>\n",
       "      <td>...</td>\n",
       "      <td>...</td>\n",
       "      <td>...</td>\n",
       "      <td>...</td>\n",
       "    </tr>\n",
       "    <tr>\n",
       "      <th>188</th>\n",
       "      <td>Government Sector</td>\n",
       "      <td>Technical</td>\n",
       "      <td>No</td>\n",
       "      <td>No</td>\n",
       "      <td>5</td>\n",
       "    </tr>\n",
       "    <tr>\n",
       "      <th>58</th>\n",
       "      <td>Entrepreneurship</td>\n",
       "      <td>Non-Technical</td>\n",
       "      <td>Yes</td>\n",
       "      <td>No</td>\n",
       "      <td>6</td>\n",
       "    </tr>\n",
       "    <tr>\n",
       "      <th>240</th>\n",
       "      <td>Government Sector</td>\n",
       "      <td>Non-Technical</td>\n",
       "      <td>No</td>\n",
       "      <td>Yes</td>\n",
       "      <td>5</td>\n",
       "    </tr>\n",
       "    <tr>\n",
       "      <th>105</th>\n",
       "      <td>Entrepreneurship</td>\n",
       "      <td>Art</td>\n",
       "      <td>Yes</td>\n",
       "      <td>Yes</td>\n",
       "      <td>7</td>\n",
       "    </tr>\n",
       "    <tr>\n",
       "      <th>309</th>\n",
       "      <td>Private Sector</td>\n",
       "      <td>Art</td>\n",
       "      <td>No</td>\n",
       "      <td>Yes</td>\n",
       "      <td>4</td>\n",
       "    </tr>\n",
       "  </tbody>\n",
       "</table>\n",
       "<p>340 rows × 5 columns</p>\n",
       "</div>"
      ],
      "text/plain": [
       "     Employment Sector Employment Background Public Dealing Degree  \\\n",
       "365   Entrepreneurship                   Art             No    Yes   \n",
       "172  Government Sector             Technical             No     No   \n",
       "80   Government Sector         Non-Technical            Yes     No   \n",
       "94   Government Sector         Non-Technical            Yes    Yes   \n",
       "160  Government Sector         Non-Technical            Yes    Yes   \n",
       "..                 ...                   ...            ...    ...   \n",
       "188  Government Sector             Technical             No     No   \n",
       "58    Entrepreneurship         Non-Technical            Yes     No   \n",
       "240  Government Sector         Non-Technical             No    Yes   \n",
       "105   Entrepreneurship                   Art            Yes    Yes   \n",
       "309     Private Sector                   Art             No    Yes   \n",
       "\n",
       "     IdealNumberOfWorkdays  \n",
       "365                      6  \n",
       "172                      5  \n",
       "80                       4  \n",
       "94                       4  \n",
       "160                      4  \n",
       "..                     ...  \n",
       "188                      5  \n",
       "58                       6  \n",
       "240                      5  \n",
       "105                      7  \n",
       "309                      4  \n",
       "\n",
       "[340 rows x 5 columns]"
      ]
     },
     "execution_count": 297,
     "metadata": {},
     "output_type": "execute_result"
    }
   ],
   "source": [
    "x_train"
   ]
  },
  {
   "cell_type": "code",
   "execution_count": 299,
   "id": "29d3f643-5b53-4d8a-8090-1a1092ac01bc",
   "metadata": {},
   "outputs": [
    {
     "data": {
      "text/plain": [
       "365        1200K-1500K\n",
       "172         900K-1200K\n",
       "80          900K-1200K\n",
       "94          900K-1200K\n",
       "160          600K-900K\n",
       "            ...       \n",
       "188    More Than 1500K\n",
       "58          900K-1200K\n",
       "240          600K-900K\n",
       "105        1200K-1500K\n",
       "309          600K-900K\n",
       "Name: IdealYearlyIncome, Length: 340, dtype: object"
      ]
     },
     "execution_count": 299,
     "metadata": {},
     "output_type": "execute_result"
    }
   ],
   "source": [
    "y_train"
   ]
  },
  {
   "cell_type": "code",
   "execution_count": 301,
   "id": "8df00e4c-1421-408e-9e67-deac194798b1",
   "metadata": {},
   "outputs": [
    {
     "data": {
      "text/html": [
       "<div>\n",
       "<style scoped>\n",
       "    .dataframe tbody tr th:only-of-type {\n",
       "        vertical-align: middle;\n",
       "    }\n",
       "\n",
       "    .dataframe tbody tr th {\n",
       "        vertical-align: top;\n",
       "    }\n",
       "\n",
       "    .dataframe thead th {\n",
       "        text-align: right;\n",
       "    }\n",
       "</style>\n",
       "<table border=\"1\" class=\"dataframe\">\n",
       "  <thead>\n",
       "    <tr style=\"text-align: right;\">\n",
       "      <th></th>\n",
       "      <th>Employment Sector</th>\n",
       "      <th>Employment Background</th>\n",
       "      <th>Public Dealing</th>\n",
       "      <th>Degree</th>\n",
       "      <th>IdealNumberOfWorkdays</th>\n",
       "    </tr>\n",
       "  </thead>\n",
       "  <tbody>\n",
       "    <tr>\n",
       "      <th>318</th>\n",
       "      <td>Government Sector</td>\n",
       "      <td>Non-Technical</td>\n",
       "      <td>Yes</td>\n",
       "      <td>No</td>\n",
       "      <td>4</td>\n",
       "    </tr>\n",
       "    <tr>\n",
       "      <th>75</th>\n",
       "      <td>Entrepreneurship</td>\n",
       "      <td>Non-Technical</td>\n",
       "      <td>No</td>\n",
       "      <td>No</td>\n",
       "      <td>6</td>\n",
       "    </tr>\n",
       "    <tr>\n",
       "      <th>371</th>\n",
       "      <td>Government Sector</td>\n",
       "      <td>Non-Technical</td>\n",
       "      <td>Yes</td>\n",
       "      <td>No</td>\n",
       "      <td>5</td>\n",
       "    </tr>\n",
       "    <tr>\n",
       "      <th>50</th>\n",
       "      <td>Entrepreneurship</td>\n",
       "      <td>Technical</td>\n",
       "      <td>No</td>\n",
       "      <td>No</td>\n",
       "      <td>5</td>\n",
       "    </tr>\n",
       "    <tr>\n",
       "      <th>139</th>\n",
       "      <td>Entrepreneurship</td>\n",
       "      <td>Technical</td>\n",
       "      <td>Yes</td>\n",
       "      <td>No</td>\n",
       "      <td>6</td>\n",
       "    </tr>\n",
       "    <tr>\n",
       "      <th>325</th>\n",
       "      <td>Private Sector</td>\n",
       "      <td>Technical</td>\n",
       "      <td>No</td>\n",
       "      <td>Yes</td>\n",
       "      <td>5</td>\n",
       "    </tr>\n",
       "    <tr>\n",
       "      <th>87</th>\n",
       "      <td>Private Sector</td>\n",
       "      <td>Non-Technical</td>\n",
       "      <td>Yes</td>\n",
       "      <td>Yes</td>\n",
       "      <td>4</td>\n",
       "    </tr>\n",
       "    <tr>\n",
       "      <th>204</th>\n",
       "      <td>Government Sector</td>\n",
       "      <td>Non-Technical</td>\n",
       "      <td>Yes</td>\n",
       "      <td>No</td>\n",
       "      <td>5</td>\n",
       "    </tr>\n",
       "    <tr>\n",
       "      <th>294</th>\n",
       "      <td>Government Sector</td>\n",
       "      <td>Technical</td>\n",
       "      <td>No</td>\n",
       "      <td>No</td>\n",
       "      <td>5</td>\n",
       "    </tr>\n",
       "    <tr>\n",
       "      <th>310</th>\n",
       "      <td>Private Sector</td>\n",
       "      <td>Art</td>\n",
       "      <td>No</td>\n",
       "      <td>Yes</td>\n",
       "      <td>5</td>\n",
       "    </tr>\n",
       "    <tr>\n",
       "      <th>76</th>\n",
       "      <td>Entrepreneurship</td>\n",
       "      <td>Non-Technical</td>\n",
       "      <td>Yes</td>\n",
       "      <td>No</td>\n",
       "      <td>6</td>\n",
       "    </tr>\n",
       "    <tr>\n",
       "      <th>144</th>\n",
       "      <td>Entrepreneurship</td>\n",
       "      <td>Art</td>\n",
       "      <td>Yes</td>\n",
       "      <td>Yes</td>\n",
       "      <td>7</td>\n",
       "    </tr>\n",
       "    <tr>\n",
       "      <th>354</th>\n",
       "      <td>Private Sector</td>\n",
       "      <td>Technical</td>\n",
       "      <td>No</td>\n",
       "      <td>Yes</td>\n",
       "      <td>5</td>\n",
       "    </tr>\n",
       "    <tr>\n",
       "      <th>384</th>\n",
       "      <td>Private Sector</td>\n",
       "      <td>Art</td>\n",
       "      <td>Yes</td>\n",
       "      <td>Yes</td>\n",
       "      <td>4</td>\n",
       "    </tr>\n",
       "    <tr>\n",
       "      <th>108</th>\n",
       "      <td>Private Sector</td>\n",
       "      <td>Non-Technical</td>\n",
       "      <td>Yes</td>\n",
       "      <td>Yes</td>\n",
       "      <td>4</td>\n",
       "    </tr>\n",
       "    <tr>\n",
       "      <th>66</th>\n",
       "      <td>Government Sector</td>\n",
       "      <td>Non-Technical</td>\n",
       "      <td>Yes</td>\n",
       "      <td>Yes</td>\n",
       "      <td>4</td>\n",
       "    </tr>\n",
       "    <tr>\n",
       "      <th>266</th>\n",
       "      <td>Entrepreneurship</td>\n",
       "      <td>Non-Technical</td>\n",
       "      <td>Yes</td>\n",
       "      <td>No</td>\n",
       "      <td>6</td>\n",
       "    </tr>\n",
       "    <tr>\n",
       "      <th>135</th>\n",
       "      <td>Private Sector</td>\n",
       "      <td>Technical</td>\n",
       "      <td>No</td>\n",
       "      <td>Yes</td>\n",
       "      <td>5</td>\n",
       "    </tr>\n",
       "    <tr>\n",
       "      <th>52</th>\n",
       "      <td>Entrepreneurship</td>\n",
       "      <td>Technical</td>\n",
       "      <td>Yes</td>\n",
       "      <td>No</td>\n",
       "      <td>6</td>\n",
       "    </tr>\n",
       "    <tr>\n",
       "      <th>90</th>\n",
       "      <td>Entrepreneurship</td>\n",
       "      <td>Technical</td>\n",
       "      <td>Yes</td>\n",
       "      <td>No</td>\n",
       "      <td>6</td>\n",
       "    </tr>\n",
       "    <tr>\n",
       "      <th>378</th>\n",
       "      <td>Government Sector</td>\n",
       "      <td>Technical</td>\n",
       "      <td>No</td>\n",
       "      <td>No</td>\n",
       "      <td>5</td>\n",
       "    </tr>\n",
       "    <tr>\n",
       "      <th>290</th>\n",
       "      <td>Private Sector</td>\n",
       "      <td>Technical</td>\n",
       "      <td>No</td>\n",
       "      <td>Yes</td>\n",
       "      <td>5</td>\n",
       "    </tr>\n",
       "    <tr>\n",
       "      <th>254</th>\n",
       "      <td>Government Sector</td>\n",
       "      <td>Non-Technical</td>\n",
       "      <td>Yes</td>\n",
       "      <td>No</td>\n",
       "      <td>4</td>\n",
       "    </tr>\n",
       "    <tr>\n",
       "      <th>206</th>\n",
       "      <td>Government Sector</td>\n",
       "      <td>Technical</td>\n",
       "      <td>No</td>\n",
       "      <td>Yes</td>\n",
       "      <td>5</td>\n",
       "    </tr>\n",
       "    <tr>\n",
       "      <th>95</th>\n",
       "      <td>Government Sector</td>\n",
       "      <td>Technical</td>\n",
       "      <td>No</td>\n",
       "      <td>No</td>\n",
       "      <td>5</td>\n",
       "    </tr>\n",
       "    <tr>\n",
       "      <th>362</th>\n",
       "      <td>Government Sector</td>\n",
       "      <td>Art</td>\n",
       "      <td>Yes</td>\n",
       "      <td>No</td>\n",
       "      <td>5</td>\n",
       "    </tr>\n",
       "    <tr>\n",
       "      <th>373</th>\n",
       "      <td>Private Sector</td>\n",
       "      <td>Non-Technical</td>\n",
       "      <td>No</td>\n",
       "      <td>Yes</td>\n",
       "      <td>4</td>\n",
       "    </tr>\n",
       "    <tr>\n",
       "      <th>153</th>\n",
       "      <td>Government Sector</td>\n",
       "      <td>Non-Technical</td>\n",
       "      <td>Yes</td>\n",
       "      <td>No</td>\n",
       "      <td>4</td>\n",
       "    </tr>\n",
       "    <tr>\n",
       "      <th>12</th>\n",
       "      <td>Government Sector</td>\n",
       "      <td>Technical</td>\n",
       "      <td>No</td>\n",
       "      <td>No</td>\n",
       "      <td>5</td>\n",
       "    </tr>\n",
       "    <tr>\n",
       "      <th>73</th>\n",
       "      <td>Private Sector</td>\n",
       "      <td>Technical</td>\n",
       "      <td>No</td>\n",
       "      <td>Yes</td>\n",
       "      <td>4</td>\n",
       "    </tr>\n",
       "    <tr>\n",
       "      <th>274</th>\n",
       "      <td>Government Sector</td>\n",
       "      <td>Technical</td>\n",
       "      <td>No</td>\n",
       "      <td>No</td>\n",
       "      <td>5</td>\n",
       "    </tr>\n",
       "    <tr>\n",
       "      <th>121</th>\n",
       "      <td>Private Sector</td>\n",
       "      <td>Non-Technical</td>\n",
       "      <td>Yes</td>\n",
       "      <td>Yes</td>\n",
       "      <td>4</td>\n",
       "    </tr>\n",
       "    <tr>\n",
       "      <th>296</th>\n",
       "      <td>Entrepreneurship</td>\n",
       "      <td>Non-Technical</td>\n",
       "      <td>No</td>\n",
       "      <td>No</td>\n",
       "      <td>6</td>\n",
       "    </tr>\n",
       "    <tr>\n",
       "      <th>0</th>\n",
       "      <td>Private Sector</td>\n",
       "      <td>Technical</td>\n",
       "      <td>No</td>\n",
       "      <td>Yes</td>\n",
       "      <td>4</td>\n",
       "    </tr>\n",
       "    <tr>\n",
       "      <th>142</th>\n",
       "      <td>Government Sector</td>\n",
       "      <td>Non-Technical</td>\n",
       "      <td>Yes</td>\n",
       "      <td>Yes</td>\n",
       "      <td>4</td>\n",
       "    </tr>\n",
       "    <tr>\n",
       "      <th>120</th>\n",
       "      <td>Entrepreneurship</td>\n",
       "      <td>Non-Technical</td>\n",
       "      <td>No</td>\n",
       "      <td>No</td>\n",
       "      <td>6</td>\n",
       "    </tr>\n",
       "    <tr>\n",
       "      <th>33</th>\n",
       "      <td>Government Sector</td>\n",
       "      <td>Non-Technical</td>\n",
       "      <td>Yes</td>\n",
       "      <td>No</td>\n",
       "      <td>5</td>\n",
       "    </tr>\n",
       "    <tr>\n",
       "      <th>3</th>\n",
       "      <td>Government Sector</td>\n",
       "      <td>Non-Technical</td>\n",
       "      <td>Yes</td>\n",
       "      <td>Yes</td>\n",
       "      <td>4</td>\n",
       "    </tr>\n",
       "    <tr>\n",
       "      <th>229</th>\n",
       "      <td>Government Sector</td>\n",
       "      <td>Non-Technical</td>\n",
       "      <td>Yes</td>\n",
       "      <td>No</td>\n",
       "      <td>5</td>\n",
       "    </tr>\n",
       "    <tr>\n",
       "      <th>319</th>\n",
       "      <td>Government Sector</td>\n",
       "      <td>Art</td>\n",
       "      <td>Yes</td>\n",
       "      <td>No</td>\n",
       "      <td>5</td>\n",
       "    </tr>\n",
       "    <tr>\n",
       "      <th>298</th>\n",
       "      <td>Government Sector</td>\n",
       "      <td>Non-Technical</td>\n",
       "      <td>Yes</td>\n",
       "      <td>Yes</td>\n",
       "      <td>4</td>\n",
       "    </tr>\n",
       "    <tr>\n",
       "      <th>193</th>\n",
       "      <td>Private Sector</td>\n",
       "      <td>Non-Technical</td>\n",
       "      <td>No</td>\n",
       "      <td>Yes</td>\n",
       "      <td>5</td>\n",
       "    </tr>\n",
       "    <tr>\n",
       "      <th>24</th>\n",
       "      <td>Government Sector</td>\n",
       "      <td>Non-Technical</td>\n",
       "      <td>Yes</td>\n",
       "      <td>No</td>\n",
       "      <td>4</td>\n",
       "    </tr>\n",
       "    <tr>\n",
       "      <th>355</th>\n",
       "      <td>Government Sector</td>\n",
       "      <td>Non-Technical</td>\n",
       "      <td>Yes</td>\n",
       "      <td>No</td>\n",
       "      <td>5</td>\n",
       "    </tr>\n",
       "    <tr>\n",
       "      <th>127</th>\n",
       "      <td>Government Sector</td>\n",
       "      <td>Non-Technical</td>\n",
       "      <td>Yes</td>\n",
       "      <td>Yes</td>\n",
       "      <td>4</td>\n",
       "    </tr>\n",
       "    <tr>\n",
       "      <th>78</th>\n",
       "      <td>Government Sector</td>\n",
       "      <td>Technical</td>\n",
       "      <td>No</td>\n",
       "      <td>Yes</td>\n",
       "      <td>6</td>\n",
       "    </tr>\n",
       "    <tr>\n",
       "      <th>304</th>\n",
       "      <td>Government Sector</td>\n",
       "      <td>Non-Technical</td>\n",
       "      <td>Yes</td>\n",
       "      <td>Yes</td>\n",
       "      <td>4</td>\n",
       "    </tr>\n",
       "    <tr>\n",
       "      <th>63</th>\n",
       "      <td>Entrepreneurship</td>\n",
       "      <td>Non-Technical</td>\n",
       "      <td>No</td>\n",
       "      <td>No</td>\n",
       "      <td>6</td>\n",
       "    </tr>\n",
       "    <tr>\n",
       "      <th>155</th>\n",
       "      <td>Private Sector</td>\n",
       "      <td>Non-Technical</td>\n",
       "      <td>Yes</td>\n",
       "      <td>Yes</td>\n",
       "      <td>4</td>\n",
       "    </tr>\n",
       "    <tr>\n",
       "      <th>249</th>\n",
       "      <td>Government Sector</td>\n",
       "      <td>Non-Technical</td>\n",
       "      <td>Yes</td>\n",
       "      <td>No</td>\n",
       "      <td>5</td>\n",
       "    </tr>\n",
       "    <tr>\n",
       "      <th>197</th>\n",
       "      <td>Private Sector</td>\n",
       "      <td>Non-Technical</td>\n",
       "      <td>Yes</td>\n",
       "      <td>Yes</td>\n",
       "      <td>4</td>\n",
       "    </tr>\n",
       "    <tr>\n",
       "      <th>93</th>\n",
       "      <td>Private Sector</td>\n",
       "      <td>Non-Technical</td>\n",
       "      <td>No</td>\n",
       "      <td>Yes</td>\n",
       "      <td>4</td>\n",
       "    </tr>\n",
       "    <tr>\n",
       "      <th>60</th>\n",
       "      <td>Entrepreneurship</td>\n",
       "      <td>Non-Technical</td>\n",
       "      <td>No</td>\n",
       "      <td>No</td>\n",
       "      <td>6</td>\n",
       "    </tr>\n",
       "    <tr>\n",
       "      <th>67</th>\n",
       "      <td>Entrepreneurship</td>\n",
       "      <td>Art</td>\n",
       "      <td>Yes</td>\n",
       "      <td>Yes</td>\n",
       "      <td>7</td>\n",
       "    </tr>\n",
       "    <tr>\n",
       "      <th>356</th>\n",
       "      <td>Private Sector</td>\n",
       "      <td>Technical</td>\n",
       "      <td>No</td>\n",
       "      <td>Yes</td>\n",
       "      <td>5</td>\n",
       "    </tr>\n",
       "    <tr>\n",
       "      <th>333</th>\n",
       "      <td>Government Sector</td>\n",
       "      <td>Non-Technical</td>\n",
       "      <td>Yes</td>\n",
       "      <td>Yes</td>\n",
       "      <td>4</td>\n",
       "    </tr>\n",
       "    <tr>\n",
       "      <th>370</th>\n",
       "      <td>Private Sector</td>\n",
       "      <td>Non-Technical</td>\n",
       "      <td>Yes</td>\n",
       "      <td>Yes</td>\n",
       "      <td>4</td>\n",
       "    </tr>\n",
       "    <tr>\n",
       "      <th>280</th>\n",
       "      <td>Government Sector</td>\n",
       "      <td>Technical</td>\n",
       "      <td>No</td>\n",
       "      <td>Yes</td>\n",
       "      <td>6</td>\n",
       "    </tr>\n",
       "    <tr>\n",
       "      <th>283</th>\n",
       "      <td>Government Sector</td>\n",
       "      <td>Non-Technical</td>\n",
       "      <td>No</td>\n",
       "      <td>No</td>\n",
       "      <td>5</td>\n",
       "    </tr>\n",
       "    <tr>\n",
       "      <th>214</th>\n",
       "      <td>Private Sector</td>\n",
       "      <td>Technical</td>\n",
       "      <td>No</td>\n",
       "      <td>Yes</td>\n",
       "      <td>5</td>\n",
       "    </tr>\n",
       "  </tbody>\n",
       "</table>\n",
       "</div>"
      ],
      "text/plain": [
       "     Employment Sector Employment Background Public Dealing Degree  \\\n",
       "318  Government Sector         Non-Technical            Yes     No   \n",
       "75    Entrepreneurship         Non-Technical             No     No   \n",
       "371  Government Sector         Non-Technical            Yes     No   \n",
       "50    Entrepreneurship             Technical             No     No   \n",
       "139   Entrepreneurship             Technical            Yes     No   \n",
       "325     Private Sector             Technical             No    Yes   \n",
       "87      Private Sector         Non-Technical            Yes    Yes   \n",
       "204  Government Sector         Non-Technical            Yes     No   \n",
       "294  Government Sector             Technical             No     No   \n",
       "310     Private Sector                   Art             No    Yes   \n",
       "76    Entrepreneurship         Non-Technical            Yes     No   \n",
       "144   Entrepreneurship                   Art            Yes    Yes   \n",
       "354     Private Sector             Technical             No    Yes   \n",
       "384     Private Sector                   Art            Yes    Yes   \n",
       "108     Private Sector         Non-Technical            Yes    Yes   \n",
       "66   Government Sector         Non-Technical            Yes    Yes   \n",
       "266   Entrepreneurship         Non-Technical            Yes     No   \n",
       "135     Private Sector             Technical             No    Yes   \n",
       "52    Entrepreneurship             Technical            Yes     No   \n",
       "90    Entrepreneurship             Technical            Yes     No   \n",
       "378  Government Sector             Technical             No     No   \n",
       "290     Private Sector             Technical             No    Yes   \n",
       "254  Government Sector         Non-Technical            Yes     No   \n",
       "206  Government Sector             Technical             No    Yes   \n",
       "95   Government Sector             Technical             No     No   \n",
       "362  Government Sector                   Art            Yes     No   \n",
       "373     Private Sector         Non-Technical             No    Yes   \n",
       "153  Government Sector         Non-Technical            Yes     No   \n",
       "12   Government Sector             Technical             No     No   \n",
       "73      Private Sector             Technical             No    Yes   \n",
       "274  Government Sector             Technical             No     No   \n",
       "121     Private Sector         Non-Technical            Yes    Yes   \n",
       "296   Entrepreneurship         Non-Technical             No     No   \n",
       "0       Private Sector             Technical             No    Yes   \n",
       "142  Government Sector         Non-Technical            Yes    Yes   \n",
       "120   Entrepreneurship         Non-Technical             No     No   \n",
       "33   Government Sector         Non-Technical            Yes     No   \n",
       "3    Government Sector         Non-Technical            Yes    Yes   \n",
       "229  Government Sector         Non-Technical            Yes     No   \n",
       "319  Government Sector                   Art            Yes     No   \n",
       "298  Government Sector         Non-Technical            Yes    Yes   \n",
       "193     Private Sector         Non-Technical             No    Yes   \n",
       "24   Government Sector         Non-Technical            Yes     No   \n",
       "355  Government Sector         Non-Technical            Yes     No   \n",
       "127  Government Sector         Non-Technical            Yes    Yes   \n",
       "78   Government Sector             Technical             No    Yes   \n",
       "304  Government Sector         Non-Technical            Yes    Yes   \n",
       "63    Entrepreneurship         Non-Technical             No     No   \n",
       "155     Private Sector         Non-Technical            Yes    Yes   \n",
       "249  Government Sector         Non-Technical            Yes     No   \n",
       "197     Private Sector         Non-Technical            Yes    Yes   \n",
       "93      Private Sector         Non-Technical             No    Yes   \n",
       "60    Entrepreneurship         Non-Technical             No     No   \n",
       "67    Entrepreneurship                   Art            Yes    Yes   \n",
       "356     Private Sector             Technical             No    Yes   \n",
       "333  Government Sector         Non-Technical            Yes    Yes   \n",
       "370     Private Sector         Non-Technical            Yes    Yes   \n",
       "280  Government Sector             Technical             No    Yes   \n",
       "283  Government Sector         Non-Technical             No     No   \n",
       "214     Private Sector             Technical             No    Yes   \n",
       "\n",
       "     IdealNumberOfWorkdays  \n",
       "318                      4  \n",
       "75                       6  \n",
       "371                      5  \n",
       "50                       5  \n",
       "139                      6  \n",
       "325                      5  \n",
       "87                       4  \n",
       "204                      5  \n",
       "294                      5  \n",
       "310                      5  \n",
       "76                       6  \n",
       "144                      7  \n",
       "354                      5  \n",
       "384                      4  \n",
       "108                      4  \n",
       "66                       4  \n",
       "266                      6  \n",
       "135                      5  \n",
       "52                       6  \n",
       "90                       6  \n",
       "378                      5  \n",
       "290                      5  \n",
       "254                      4  \n",
       "206                      5  \n",
       "95                       5  \n",
       "362                      5  \n",
       "373                      4  \n",
       "153                      4  \n",
       "12                       5  \n",
       "73                       4  \n",
       "274                      5  \n",
       "121                      4  \n",
       "296                      6  \n",
       "0                        4  \n",
       "142                      4  \n",
       "120                      6  \n",
       "33                       5  \n",
       "3                        4  \n",
       "229                      5  \n",
       "319                      5  \n",
       "298                      4  \n",
       "193                      5  \n",
       "24                       4  \n",
       "355                      5  \n",
       "127                      4  \n",
       "78                       6  \n",
       "304                      4  \n",
       "63                       6  \n",
       "155                      4  \n",
       "249                      5  \n",
       "197                      4  \n",
       "93                       4  \n",
       "60                       6  \n",
       "67                       7  \n",
       "356                      5  \n",
       "333                      4  \n",
       "370                      4  \n",
       "280                      6  \n",
       "283                      5  \n",
       "214                      5  "
      ]
     },
     "execution_count": 301,
     "metadata": {},
     "output_type": "execute_result"
    }
   ],
   "source": [
    "x_test"
   ]
  },
  {
   "cell_type": "code",
   "execution_count": 303,
   "id": "eb8841e1-55ba-4d7e-ab68-72b90f2e1956",
   "metadata": {},
   "outputs": [
    {
     "data": {
      "text/plain": [
       "318         900K-1200K\n",
       "75         1200K-1500K\n",
       "371        1200K-1500K\n",
       "50          900K-1200K\n",
       "139    More Than 1500K\n",
       "325        1200K-1500K\n",
       "87          900K-1200K\n",
       "204        1200K-1500K\n",
       "294    More Than 1500K\n",
       "310          600K-900K\n",
       "76          900K-1200K\n",
       "144        1200K-1500K\n",
       "354        1200K-1500K\n",
       "384    More Than 1500K\n",
       "108         900K-1200K\n",
       "66          900K-1200K\n",
       "266         900K-1200K\n",
       "135        1200K-1500K\n",
       "52     More Than 1500K\n",
       "90     More Than 1500K\n",
       "378         900K-1200K\n",
       "290         900K-1200K\n",
       "254         900K-1200K\n",
       "206         900K-1200K\n",
       "95          900K-1200K\n",
       "362         900K-1200K\n",
       "373          600K-900K\n",
       "153         900K-1200K\n",
       "12     More Than 1500K\n",
       "73     More Than 1500K\n",
       "274         900K-1200K\n",
       "121         900K-1200K\n",
       "296         900K-1200K\n",
       "0      More Than 1500K\n",
       "142          600K-900K\n",
       "120        1200K-1500K\n",
       "33         1200K-1500K\n",
       "3           900K-1200K\n",
       "229        1200K-1500K\n",
       "319         900K-1200K\n",
       "298          600K-900K\n",
       "193          600K-900K\n",
       "24          900K-1200K\n",
       "355        1200K-1500K\n",
       "127         900K-1200K\n",
       "78          900K-1200K\n",
       "304         900K-1200K\n",
       "63         1200K-1500K\n",
       "155    More Than 1500K\n",
       "249        1200K-1500K\n",
       "197    More Than 1500K\n",
       "93          900K-1200K\n",
       "60         1200K-1500K\n",
       "67         1200K-1500K\n",
       "356        1200K-1500K\n",
       "333          600K-900K\n",
       "370         900K-1200K\n",
       "280         900K-1200K\n",
       "283    More Than 1500K\n",
       "214        1200K-1500K\n",
       "Name: IdealYearlyIncome, dtype: object"
      ]
     },
     "execution_count": 303,
     "metadata": {},
     "output_type": "execute_result"
    }
   ],
   "source": [
    "y_test"
   ]
  },
  {
   "cell_type": "code",
   "execution_count": 305,
   "id": "065d0992-9b59-46bf-a7ba-ced8df6205f4",
   "metadata": {},
   "outputs": [
    {
     "data": {
      "text/plain": [
       "(60, 5)"
      ]
     },
     "execution_count": 305,
     "metadata": {},
     "output_type": "execute_result"
    }
   ],
   "source": [
    "x_test.shape"
   ]
  },
  {
   "cell_type": "code",
   "execution_count": 307,
   "id": "42698b06-50bc-4449-941e-e47648ed6391",
   "metadata": {},
   "outputs": [
    {
     "data": {
      "text/plain": [
       "(60,)"
      ]
     },
     "execution_count": 307,
     "metadata": {},
     "output_type": "execute_result"
    }
   ],
   "source": [
    "y_test.shape"
   ]
  },
  {
   "cell_type": "code",
   "execution_count": 309,
   "id": "a8d2d576-28ec-4d08-a60e-2b858df7b666",
   "metadata": {},
   "outputs": [],
   "source": [
    "#training the model"
   ]
  },
  {
   "cell_type": "code",
   "execution_count": 323,
   "id": "b4733fa0-1950-4ce9-97ee-04f327200e31",
   "metadata": {},
   "outputs": [
    {
     "name": "stdout",
     "output_type": "stream",
     "text": [
      "[[1. 0. 0. ... 0. 1. 0.]\n",
      " [0. 1. 0. ... 1. 0. 0.]\n",
      " [0. 1. 0. ... 0. 0. 0.]\n",
      " ...\n",
      " [0. 1. 0. ... 1. 0. 0.]\n",
      " [1. 0. 0. ... 0. 0. 1.]\n",
      " [0. 0. 1. ... 0. 0. 0.]]\n"
     ]
    }
   ],
   "source": [
    "from sklearn.preprocessing import OneHotEncoder\n",
    "\n",
    "# Create the encoder\n",
    "encoder = OneHotEncoder(sparse_output=False)\n",
    "\n",
    "# Fit and transform the data\n",
    "x_train_encoded = encoder.fit_transform(x_train)\n",
    "print(x_train_encoded)"
   ]
  },
  {
   "cell_type": "code",
   "execution_count": 325,
   "id": "4bd2c635-6b73-4bd2-8bd0-3b45ab80e13c",
   "metadata": {},
   "outputs": [
    {
     "name": "stdout",
     "output_type": "stream",
     "text": [
      "[[0. 1. 0. 0. 1. 0. 0. 1. 1. 0. 1. 0. 0. 0.]\n",
      " [1. 0. 0. 0. 1. 0. 1. 0. 1. 0. 0. 0. 1. 0.]\n",
      " [0. 1. 0. 0. 1. 0. 0. 1. 1. 0. 0. 1. 0. 0.]\n",
      " [1. 0. 0. 0. 0. 1. 1. 0. 1. 0. 0. 1. 0. 0.]\n",
      " [1. 0. 0. 0. 0. 1. 0. 1. 1. 0. 0. 0. 1. 0.]\n",
      " [0. 0. 1. 0. 0. 1. 1. 0. 0. 1. 0. 1. 0. 0.]\n",
      " [0. 0. 1. 0. 1. 0. 0. 1. 0. 1. 1. 0. 0. 0.]\n",
      " [0. 1. 0. 0. 1. 0. 0. 1. 1. 0. 0. 1. 0. 0.]\n",
      " [0. 1. 0. 0. 0. 1. 1. 0. 1. 0. 0. 1. 0. 0.]\n",
      " [0. 0. 1. 1. 0. 0. 1. 0. 0. 1. 0. 1. 0. 0.]\n",
      " [1. 0. 0. 0. 1. 0. 0. 1. 1. 0. 0. 0. 1. 0.]\n",
      " [1. 0. 0. 1. 0. 0. 0. 1. 0. 1. 0. 0. 0. 1.]\n",
      " [0. 0. 1. 0. 0. 1. 1. 0. 0. 1. 0. 1. 0. 0.]\n",
      " [0. 0. 1. 1. 0. 0. 0. 1. 0. 1. 1. 0. 0. 0.]\n",
      " [0. 0. 1. 0. 1. 0. 0. 1. 0. 1. 1. 0. 0. 0.]\n",
      " [0. 1. 0. 0. 1. 0. 0. 1. 0. 1. 1. 0. 0. 0.]\n",
      " [1. 0. 0. 0. 1. 0. 0. 1. 1. 0. 0. 0. 1. 0.]\n",
      " [0. 0. 1. 0. 0. 1. 1. 0. 0. 1. 0. 1. 0. 0.]\n",
      " [1. 0. 0. 0. 0. 1. 0. 1. 1. 0. 0. 0. 1. 0.]\n",
      " [1. 0. 0. 0. 0. 1. 0. 1. 1. 0. 0. 0. 1. 0.]\n",
      " [0. 1. 0. 0. 0. 1. 1. 0. 1. 0. 0. 1. 0. 0.]\n",
      " [0. 0. 1. 0. 0. 1. 1. 0. 0. 1. 0. 1. 0. 0.]\n",
      " [0. 1. 0. 0. 1. 0. 0. 1. 1. 0. 1. 0. 0. 0.]\n",
      " [0. 1. 0. 0. 0. 1. 1. 0. 0. 1. 0. 1. 0. 0.]\n",
      " [0. 1. 0. 0. 0. 1. 1. 0. 1. 0. 0. 1. 0. 0.]\n",
      " [0. 1. 0. 1. 0. 0. 0. 1. 1. 0. 0. 1. 0. 0.]\n",
      " [0. 0. 1. 0. 1. 0. 1. 0. 0. 1. 1. 0. 0. 0.]\n",
      " [0. 1. 0. 0. 1. 0. 0. 1. 1. 0. 1. 0. 0. 0.]\n",
      " [0. 1. 0. 0. 0. 1. 1. 0. 1. 0. 0. 1. 0. 0.]\n",
      " [0. 0. 1. 0. 0. 1. 1. 0. 0. 1. 1. 0. 0. 0.]\n",
      " [0. 1. 0. 0. 0. 1. 1. 0. 1. 0. 0. 1. 0. 0.]\n",
      " [0. 0. 1. 0. 1. 0. 0. 1. 0. 1. 1. 0. 0. 0.]\n",
      " [1. 0. 0. 0. 1. 0. 1. 0. 1. 0. 0. 0. 1. 0.]\n",
      " [0. 0. 1. 0. 0. 1. 1. 0. 0. 1. 1. 0. 0. 0.]\n",
      " [0. 1. 0. 0. 1. 0. 0. 1. 0. 1. 1. 0. 0. 0.]\n",
      " [1. 0. 0. 0. 1. 0. 1. 0. 1. 0. 0. 0. 1. 0.]\n",
      " [0. 1. 0. 0. 1. 0. 0. 1. 1. 0. 0. 1. 0. 0.]\n",
      " [0. 1. 0. 0. 1. 0. 0. 1. 0. 1. 1. 0. 0. 0.]\n",
      " [0. 1. 0. 0. 1. 0. 0. 1. 1. 0. 0. 1. 0. 0.]\n",
      " [0. 1. 0. 1. 0. 0. 0. 1. 1. 0. 0. 1. 0. 0.]\n",
      " [0. 1. 0. 0. 1. 0. 0. 1. 0. 1. 1. 0. 0. 0.]\n",
      " [0. 0. 1. 0. 1. 0. 1. 0. 0. 1. 0. 1. 0. 0.]\n",
      " [0. 1. 0. 0. 1. 0. 0. 1. 1. 0. 1. 0. 0. 0.]\n",
      " [0. 1. 0. 0. 1. 0. 0. 1. 1. 0. 0. 1. 0. 0.]\n",
      " [0. 1. 0. 0. 1. 0. 0. 1. 0. 1. 1. 0. 0. 0.]\n",
      " [0. 1. 0. 0. 0. 1. 1. 0. 0. 1. 0. 0. 1. 0.]\n",
      " [0. 1. 0. 0. 1. 0. 0. 1. 0. 1. 1. 0. 0. 0.]\n",
      " [1. 0. 0. 0. 1. 0. 1. 0. 1. 0. 0. 0. 1. 0.]\n",
      " [0. 0. 1. 0. 1. 0. 0. 1. 0. 1. 1. 0. 0. 0.]\n",
      " [0. 1. 0. 0. 1. 0. 0. 1. 1. 0. 0. 1. 0. 0.]\n",
      " [0. 0. 1. 0. 1. 0. 0. 1. 0. 1. 1. 0. 0. 0.]\n",
      " [0. 0. 1. 0. 1. 0. 1. 0. 0. 1. 1. 0. 0. 0.]\n",
      " [1. 0. 0. 0. 1. 0. 1. 0. 1. 0. 0. 0. 1. 0.]\n",
      " [1. 0. 0. 1. 0. 0. 0. 1. 0. 1. 0. 0. 0. 1.]\n",
      " [0. 0. 1. 0. 0. 1. 1. 0. 0. 1. 0. 1. 0. 0.]\n",
      " [0. 1. 0. 0. 1. 0. 0. 1. 0. 1. 1. 0. 0. 0.]\n",
      " [0. 0. 1. 0. 1. 0. 0. 1. 0. 1. 1. 0. 0. 0.]\n",
      " [0. 1. 0. 0. 0. 1. 1. 0. 0. 1. 0. 0. 1. 0.]\n",
      " [0. 1. 0. 0. 1. 0. 1. 0. 1. 0. 0. 1. 0. 0.]\n",
      " [0. 0. 1. 0. 0. 1. 1. 0. 0. 1. 0. 1. 0. 0.]]\n"
     ]
    }
   ],
   "source": [
    "x_test_encoded = encoder.fit_transform(x_test)\n",
    "print(x_test_encoded)"
   ]
  },
  {
   "cell_type": "code",
   "execution_count": 327,
   "id": "d6b473d6-fc04-4b60-9e08-2422908253d4",
   "metadata": {},
   "outputs": [
    {
     "data": {
      "text/html": [
       "<style>#sk-container-id-1 {\n",
       "  /* Definition of color scheme common for light and dark mode */\n",
       "  --sklearn-color-text: black;\n",
       "  --sklearn-color-line: gray;\n",
       "  /* Definition of color scheme for unfitted estimators */\n",
       "  --sklearn-color-unfitted-level-0: #fff5e6;\n",
       "  --sklearn-color-unfitted-level-1: #f6e4d2;\n",
       "  --sklearn-color-unfitted-level-2: #ffe0b3;\n",
       "  --sklearn-color-unfitted-level-3: chocolate;\n",
       "  /* Definition of color scheme for fitted estimators */\n",
       "  --sklearn-color-fitted-level-0: #f0f8ff;\n",
       "  --sklearn-color-fitted-level-1: #d4ebff;\n",
       "  --sklearn-color-fitted-level-2: #b3dbfd;\n",
       "  --sklearn-color-fitted-level-3: cornflowerblue;\n",
       "\n",
       "  /* Specific color for light theme */\n",
       "  --sklearn-color-text-on-default-background: var(--sg-text-color, var(--theme-code-foreground, var(--jp-content-font-color1, black)));\n",
       "  --sklearn-color-background: var(--sg-background-color, var(--theme-background, var(--jp-layout-color0, white)));\n",
       "  --sklearn-color-border-box: var(--sg-text-color, var(--theme-code-foreground, var(--jp-content-font-color1, black)));\n",
       "  --sklearn-color-icon: #696969;\n",
       "\n",
       "  @media (prefers-color-scheme: dark) {\n",
       "    /* Redefinition of color scheme for dark theme */\n",
       "    --sklearn-color-text-on-default-background: var(--sg-text-color, var(--theme-code-foreground, var(--jp-content-font-color1, white)));\n",
       "    --sklearn-color-background: var(--sg-background-color, var(--theme-background, var(--jp-layout-color0, #111)));\n",
       "    --sklearn-color-border-box: var(--sg-text-color, var(--theme-code-foreground, var(--jp-content-font-color1, white)));\n",
       "    --sklearn-color-icon: #878787;\n",
       "  }\n",
       "}\n",
       "\n",
       "#sk-container-id-1 {\n",
       "  color: var(--sklearn-color-text);\n",
       "}\n",
       "\n",
       "#sk-container-id-1 pre {\n",
       "  padding: 0;\n",
       "}\n",
       "\n",
       "#sk-container-id-1 input.sk-hidden--visually {\n",
       "  border: 0;\n",
       "  clip: rect(1px 1px 1px 1px);\n",
       "  clip: rect(1px, 1px, 1px, 1px);\n",
       "  height: 1px;\n",
       "  margin: -1px;\n",
       "  overflow: hidden;\n",
       "  padding: 0;\n",
       "  position: absolute;\n",
       "  width: 1px;\n",
       "}\n",
       "\n",
       "#sk-container-id-1 div.sk-dashed-wrapped {\n",
       "  border: 1px dashed var(--sklearn-color-line);\n",
       "  margin: 0 0.4em 0.5em 0.4em;\n",
       "  box-sizing: border-box;\n",
       "  padding-bottom: 0.4em;\n",
       "  background-color: var(--sklearn-color-background);\n",
       "}\n",
       "\n",
       "#sk-container-id-1 div.sk-container {\n",
       "  /* jupyter's `normalize.less` sets `[hidden] { display: none; }`\n",
       "     but bootstrap.min.css set `[hidden] { display: none !important; }`\n",
       "     so we also need the `!important` here to be able to override the\n",
       "     default hidden behavior on the sphinx rendered scikit-learn.org.\n",
       "     See: https://github.com/scikit-learn/scikit-learn/issues/21755 */\n",
       "  display: inline-block !important;\n",
       "  position: relative;\n",
       "}\n",
       "\n",
       "#sk-container-id-1 div.sk-text-repr-fallback {\n",
       "  display: none;\n",
       "}\n",
       "\n",
       "div.sk-parallel-item,\n",
       "div.sk-serial,\n",
       "div.sk-item {\n",
       "  /* draw centered vertical line to link estimators */\n",
       "  background-image: linear-gradient(var(--sklearn-color-text-on-default-background), var(--sklearn-color-text-on-default-background));\n",
       "  background-size: 2px 100%;\n",
       "  background-repeat: no-repeat;\n",
       "  background-position: center center;\n",
       "}\n",
       "\n",
       "/* Parallel-specific style estimator block */\n",
       "\n",
       "#sk-container-id-1 div.sk-parallel-item::after {\n",
       "  content: \"\";\n",
       "  width: 100%;\n",
       "  border-bottom: 2px solid var(--sklearn-color-text-on-default-background);\n",
       "  flex-grow: 1;\n",
       "}\n",
       "\n",
       "#sk-container-id-1 div.sk-parallel {\n",
       "  display: flex;\n",
       "  align-items: stretch;\n",
       "  justify-content: center;\n",
       "  background-color: var(--sklearn-color-background);\n",
       "  position: relative;\n",
       "}\n",
       "\n",
       "#sk-container-id-1 div.sk-parallel-item {\n",
       "  display: flex;\n",
       "  flex-direction: column;\n",
       "}\n",
       "\n",
       "#sk-container-id-1 div.sk-parallel-item:first-child::after {\n",
       "  align-self: flex-end;\n",
       "  width: 50%;\n",
       "}\n",
       "\n",
       "#sk-container-id-1 div.sk-parallel-item:last-child::after {\n",
       "  align-self: flex-start;\n",
       "  width: 50%;\n",
       "}\n",
       "\n",
       "#sk-container-id-1 div.sk-parallel-item:only-child::after {\n",
       "  width: 0;\n",
       "}\n",
       "\n",
       "/* Serial-specific style estimator block */\n",
       "\n",
       "#sk-container-id-1 div.sk-serial {\n",
       "  display: flex;\n",
       "  flex-direction: column;\n",
       "  align-items: center;\n",
       "  background-color: var(--sklearn-color-background);\n",
       "  padding-right: 1em;\n",
       "  padding-left: 1em;\n",
       "}\n",
       "\n",
       "\n",
       "/* Toggleable style: style used for estimator/Pipeline/ColumnTransformer box that is\n",
       "clickable and can be expanded/collapsed.\n",
       "- Pipeline and ColumnTransformer use this feature and define the default style\n",
       "- Estimators will overwrite some part of the style using the `sk-estimator` class\n",
       "*/\n",
       "\n",
       "/* Pipeline and ColumnTransformer style (default) */\n",
       "\n",
       "#sk-container-id-1 div.sk-toggleable {\n",
       "  /* Default theme specific background. It is overwritten whether we have a\n",
       "  specific estimator or a Pipeline/ColumnTransformer */\n",
       "  background-color: var(--sklearn-color-background);\n",
       "}\n",
       "\n",
       "/* Toggleable label */\n",
       "#sk-container-id-1 label.sk-toggleable__label {\n",
       "  cursor: pointer;\n",
       "  display: block;\n",
       "  width: 100%;\n",
       "  margin-bottom: 0;\n",
       "  padding: 0.5em;\n",
       "  box-sizing: border-box;\n",
       "  text-align: center;\n",
       "}\n",
       "\n",
       "#sk-container-id-1 label.sk-toggleable__label-arrow:before {\n",
       "  /* Arrow on the left of the label */\n",
       "  content: \"▸\";\n",
       "  float: left;\n",
       "  margin-right: 0.25em;\n",
       "  color: var(--sklearn-color-icon);\n",
       "}\n",
       "\n",
       "#sk-container-id-1 label.sk-toggleable__label-arrow:hover:before {\n",
       "  color: var(--sklearn-color-text);\n",
       "}\n",
       "\n",
       "/* Toggleable content - dropdown */\n",
       "\n",
       "#sk-container-id-1 div.sk-toggleable__content {\n",
       "  max-height: 0;\n",
       "  max-width: 0;\n",
       "  overflow: hidden;\n",
       "  text-align: left;\n",
       "  /* unfitted */\n",
       "  background-color: var(--sklearn-color-unfitted-level-0);\n",
       "}\n",
       "\n",
       "#sk-container-id-1 div.sk-toggleable__content.fitted {\n",
       "  /* fitted */\n",
       "  background-color: var(--sklearn-color-fitted-level-0);\n",
       "}\n",
       "\n",
       "#sk-container-id-1 div.sk-toggleable__content pre {\n",
       "  margin: 0.2em;\n",
       "  border-radius: 0.25em;\n",
       "  color: var(--sklearn-color-text);\n",
       "  /* unfitted */\n",
       "  background-color: var(--sklearn-color-unfitted-level-0);\n",
       "}\n",
       "\n",
       "#sk-container-id-1 div.sk-toggleable__content.fitted pre {\n",
       "  /* unfitted */\n",
       "  background-color: var(--sklearn-color-fitted-level-0);\n",
       "}\n",
       "\n",
       "#sk-container-id-1 input.sk-toggleable__control:checked~div.sk-toggleable__content {\n",
       "  /* Expand drop-down */\n",
       "  max-height: 200px;\n",
       "  max-width: 100%;\n",
       "  overflow: auto;\n",
       "}\n",
       "\n",
       "#sk-container-id-1 input.sk-toggleable__control:checked~label.sk-toggleable__label-arrow:before {\n",
       "  content: \"▾\";\n",
       "}\n",
       "\n",
       "/* Pipeline/ColumnTransformer-specific style */\n",
       "\n",
       "#sk-container-id-1 div.sk-label input.sk-toggleable__control:checked~label.sk-toggleable__label {\n",
       "  color: var(--sklearn-color-text);\n",
       "  background-color: var(--sklearn-color-unfitted-level-2);\n",
       "}\n",
       "\n",
       "#sk-container-id-1 div.sk-label.fitted input.sk-toggleable__control:checked~label.sk-toggleable__label {\n",
       "  background-color: var(--sklearn-color-fitted-level-2);\n",
       "}\n",
       "\n",
       "/* Estimator-specific style */\n",
       "\n",
       "/* Colorize estimator box */\n",
       "#sk-container-id-1 div.sk-estimator input.sk-toggleable__control:checked~label.sk-toggleable__label {\n",
       "  /* unfitted */\n",
       "  background-color: var(--sklearn-color-unfitted-level-2);\n",
       "}\n",
       "\n",
       "#sk-container-id-1 div.sk-estimator.fitted input.sk-toggleable__control:checked~label.sk-toggleable__label {\n",
       "  /* fitted */\n",
       "  background-color: var(--sklearn-color-fitted-level-2);\n",
       "}\n",
       "\n",
       "#sk-container-id-1 div.sk-label label.sk-toggleable__label,\n",
       "#sk-container-id-1 div.sk-label label {\n",
       "  /* The background is the default theme color */\n",
       "  color: var(--sklearn-color-text-on-default-background);\n",
       "}\n",
       "\n",
       "/* On hover, darken the color of the background */\n",
       "#sk-container-id-1 div.sk-label:hover label.sk-toggleable__label {\n",
       "  color: var(--sklearn-color-text);\n",
       "  background-color: var(--sklearn-color-unfitted-level-2);\n",
       "}\n",
       "\n",
       "/* Label box, darken color on hover, fitted */\n",
       "#sk-container-id-1 div.sk-label.fitted:hover label.sk-toggleable__label.fitted {\n",
       "  color: var(--sklearn-color-text);\n",
       "  background-color: var(--sklearn-color-fitted-level-2);\n",
       "}\n",
       "\n",
       "/* Estimator label */\n",
       "\n",
       "#sk-container-id-1 div.sk-label label {\n",
       "  font-family: monospace;\n",
       "  font-weight: bold;\n",
       "  display: inline-block;\n",
       "  line-height: 1.2em;\n",
       "}\n",
       "\n",
       "#sk-container-id-1 div.sk-label-container {\n",
       "  text-align: center;\n",
       "}\n",
       "\n",
       "/* Estimator-specific */\n",
       "#sk-container-id-1 div.sk-estimator {\n",
       "  font-family: monospace;\n",
       "  border: 1px dotted var(--sklearn-color-border-box);\n",
       "  border-radius: 0.25em;\n",
       "  box-sizing: border-box;\n",
       "  margin-bottom: 0.5em;\n",
       "  /* unfitted */\n",
       "  background-color: var(--sklearn-color-unfitted-level-0);\n",
       "}\n",
       "\n",
       "#sk-container-id-1 div.sk-estimator.fitted {\n",
       "  /* fitted */\n",
       "  background-color: var(--sklearn-color-fitted-level-0);\n",
       "}\n",
       "\n",
       "/* on hover */\n",
       "#sk-container-id-1 div.sk-estimator:hover {\n",
       "  /* unfitted */\n",
       "  background-color: var(--sklearn-color-unfitted-level-2);\n",
       "}\n",
       "\n",
       "#sk-container-id-1 div.sk-estimator.fitted:hover {\n",
       "  /* fitted */\n",
       "  background-color: var(--sklearn-color-fitted-level-2);\n",
       "}\n",
       "\n",
       "/* Specification for estimator info (e.g. \"i\" and \"?\") */\n",
       "\n",
       "/* Common style for \"i\" and \"?\" */\n",
       "\n",
       ".sk-estimator-doc-link,\n",
       "a:link.sk-estimator-doc-link,\n",
       "a:visited.sk-estimator-doc-link {\n",
       "  float: right;\n",
       "  font-size: smaller;\n",
       "  line-height: 1em;\n",
       "  font-family: monospace;\n",
       "  background-color: var(--sklearn-color-background);\n",
       "  border-radius: 1em;\n",
       "  height: 1em;\n",
       "  width: 1em;\n",
       "  text-decoration: none !important;\n",
       "  margin-left: 1ex;\n",
       "  /* unfitted */\n",
       "  border: var(--sklearn-color-unfitted-level-1) 1pt solid;\n",
       "  color: var(--sklearn-color-unfitted-level-1);\n",
       "}\n",
       "\n",
       ".sk-estimator-doc-link.fitted,\n",
       "a:link.sk-estimator-doc-link.fitted,\n",
       "a:visited.sk-estimator-doc-link.fitted {\n",
       "  /* fitted */\n",
       "  border: var(--sklearn-color-fitted-level-1) 1pt solid;\n",
       "  color: var(--sklearn-color-fitted-level-1);\n",
       "}\n",
       "\n",
       "/* On hover */\n",
       "div.sk-estimator:hover .sk-estimator-doc-link:hover,\n",
       ".sk-estimator-doc-link:hover,\n",
       "div.sk-label-container:hover .sk-estimator-doc-link:hover,\n",
       ".sk-estimator-doc-link:hover {\n",
       "  /* unfitted */\n",
       "  background-color: var(--sklearn-color-unfitted-level-3);\n",
       "  color: var(--sklearn-color-background);\n",
       "  text-decoration: none;\n",
       "}\n",
       "\n",
       "div.sk-estimator.fitted:hover .sk-estimator-doc-link.fitted:hover,\n",
       ".sk-estimator-doc-link.fitted:hover,\n",
       "div.sk-label-container:hover .sk-estimator-doc-link.fitted:hover,\n",
       ".sk-estimator-doc-link.fitted:hover {\n",
       "  /* fitted */\n",
       "  background-color: var(--sklearn-color-fitted-level-3);\n",
       "  color: var(--sklearn-color-background);\n",
       "  text-decoration: none;\n",
       "}\n",
       "\n",
       "/* Span, style for the box shown on hovering the info icon */\n",
       ".sk-estimator-doc-link span {\n",
       "  display: none;\n",
       "  z-index: 9999;\n",
       "  position: relative;\n",
       "  font-weight: normal;\n",
       "  right: .2ex;\n",
       "  padding: .5ex;\n",
       "  margin: .5ex;\n",
       "  width: min-content;\n",
       "  min-width: 20ex;\n",
       "  max-width: 50ex;\n",
       "  color: var(--sklearn-color-text);\n",
       "  box-shadow: 2pt 2pt 4pt #999;\n",
       "  /* unfitted */\n",
       "  background: var(--sklearn-color-unfitted-level-0);\n",
       "  border: .5pt solid var(--sklearn-color-unfitted-level-3);\n",
       "}\n",
       "\n",
       ".sk-estimator-doc-link.fitted span {\n",
       "  /* fitted */\n",
       "  background: var(--sklearn-color-fitted-level-0);\n",
       "  border: var(--sklearn-color-fitted-level-3);\n",
       "}\n",
       "\n",
       ".sk-estimator-doc-link:hover span {\n",
       "  display: block;\n",
       "}\n",
       "\n",
       "/* \"?\"-specific style due to the `<a>` HTML tag */\n",
       "\n",
       "#sk-container-id-1 a.estimator_doc_link {\n",
       "  float: right;\n",
       "  font-size: 1rem;\n",
       "  line-height: 1em;\n",
       "  font-family: monospace;\n",
       "  background-color: var(--sklearn-color-background);\n",
       "  border-radius: 1rem;\n",
       "  height: 1rem;\n",
       "  width: 1rem;\n",
       "  text-decoration: none;\n",
       "  /* unfitted */\n",
       "  color: var(--sklearn-color-unfitted-level-1);\n",
       "  border: var(--sklearn-color-unfitted-level-1) 1pt solid;\n",
       "}\n",
       "\n",
       "#sk-container-id-1 a.estimator_doc_link.fitted {\n",
       "  /* fitted */\n",
       "  border: var(--sklearn-color-fitted-level-1) 1pt solid;\n",
       "  color: var(--sklearn-color-fitted-level-1);\n",
       "}\n",
       "\n",
       "/* On hover */\n",
       "#sk-container-id-1 a.estimator_doc_link:hover {\n",
       "  /* unfitted */\n",
       "  background-color: var(--sklearn-color-unfitted-level-3);\n",
       "  color: var(--sklearn-color-background);\n",
       "  text-decoration: none;\n",
       "}\n",
       "\n",
       "#sk-container-id-1 a.estimator_doc_link.fitted:hover {\n",
       "  /* fitted */\n",
       "  background-color: var(--sklearn-color-fitted-level-3);\n",
       "}\n",
       "</style><div id=\"sk-container-id-1\" class=\"sk-top-container\"><div class=\"sk-text-repr-fallback\"><pre>DecisionTreeClassifier()</pre><b>In a Jupyter environment, please rerun this cell to show the HTML representation or trust the notebook. <br />On GitHub, the HTML representation is unable to render, please try loading this page with nbviewer.org.</b></div><div class=\"sk-container\" hidden><div class=\"sk-item\"><div class=\"sk-estimator fitted sk-toggleable\"><input class=\"sk-toggleable__control sk-hidden--visually\" id=\"sk-estimator-id-1\" type=\"checkbox\" checked><label for=\"sk-estimator-id-1\" class=\"sk-toggleable__label fitted sk-toggleable__label-arrow fitted\">&nbsp;&nbsp;DecisionTreeClassifier<a class=\"sk-estimator-doc-link fitted\" rel=\"noreferrer\" target=\"_blank\" href=\"https://scikit-learn.org/1.4/modules/generated/sklearn.tree.DecisionTreeClassifier.html\">?<span>Documentation for DecisionTreeClassifier</span></a><span class=\"sk-estimator-doc-link fitted\">i<span>Fitted</span></span></label><div class=\"sk-toggleable__content fitted\"><pre>DecisionTreeClassifier()</pre></div> </div></div></div></div>"
      ],
      "text/plain": [
       "DecisionTreeClassifier()"
      ]
     },
     "execution_count": 327,
     "metadata": {},
     "output_type": "execute_result"
    }
   ],
   "source": [
    "from sklearn.tree import DecisionTreeClassifier\n",
    "\n",
    "model = DecisionTreeClassifier()\n",
    "model.fit(x_train_encoded, y_train)"
   ]
  },
  {
   "cell_type": "code",
   "execution_count": 337,
   "id": "811dd96c-8572-43cf-8b05-d1f2922616f3",
   "metadata": {},
   "outputs": [
    {
     "data": {
      "text/plain": [
       "array(['900K-1200K', '900K-1200K', '1200K-1500K', '900K-1200K',\n",
       "       'More Than 1500K', '1200K-1500K', '900K-1200K', '1200K-1500K',\n",
       "       '900K-1200K', '600K-900K', '900K-1200K', '1200K-1500K',\n",
       "       '1200K-1500K', 'More Than 1500K', '900K-1200K', '900K-1200K',\n",
       "       '900K-1200K', '1200K-1500K', 'More Than 1500K', 'More Than 1500K',\n",
       "       '900K-1200K', '1200K-1500K', '900K-1200K', '900K-1200K',\n",
       "       '900K-1200K', '900K-1200K', '900K-1200K', '900K-1200K',\n",
       "       '900K-1200K', 'More Than 1500K', '900K-1200K', '900K-1200K',\n",
       "       '900K-1200K', 'More Than 1500K', '900K-1200K', '900K-1200K',\n",
       "       '1200K-1500K', '900K-1200K', '1200K-1500K', '900K-1200K',\n",
       "       '900K-1200K', '600K-900K', '900K-1200K', '1200K-1500K',\n",
       "       '900K-1200K', '900K-1200K', '900K-1200K', '900K-1200K',\n",
       "       '900K-1200K', '1200K-1500K', '900K-1200K', '900K-1200K',\n",
       "       '900K-1200K', '1200K-1500K', '1200K-1500K', '900K-1200K',\n",
       "       '900K-1200K', '900K-1200K', 'More Than 1500K', '1200K-1500K'],\n",
       "      dtype=object)"
      ]
     },
     "execution_count": 337,
     "metadata": {},
     "output_type": "execute_result"
    }
   ],
   "source": [
    "#predicting the values\n",
    "y_pred = model.predict(x_test_encoded)\n",
    "y_pred "
   ]
  },
  {
   "cell_type": "code",
   "execution_count": 341,
   "id": "f335a065-c0f9-4d8f-bdaa-2946328926e2",
   "metadata": {},
   "outputs": [
    {
     "data": {
      "text/plain": [
       "78.33333333333333"
      ]
     },
     "execution_count": 341,
     "metadata": {},
     "output_type": "execute_result"
    }
   ],
   "source": [
    "from sklearn.metrics import accuracy_score\n",
    "\n",
    "accuracy_score(y_test,y_pred)*100"
   ]
  },
  {
   "cell_type": "code",
   "execution_count": 343,
   "id": "1f5803c7-dc5c-4f74-98b0-2f8d3ffb2769",
   "metadata": {},
   "outputs": [],
   "source": [
    "#so accuracy of the model is 78.33 %\n",
    "#the model predics that what would be the ideal yearly income preferred by the student with specific job interests"
   ]
  },
  {
   "cell_type": "code",
   "execution_count": null,
   "id": "e31cb3e5-079c-45d6-80d3-0edb5592fbf4",
   "metadata": {},
   "outputs": [],
   "source": []
  }
 ],
 "metadata": {
  "kernelspec": {
   "display_name": "Python 3 (ipykernel)",
   "language": "python",
   "name": "python3"
  },
  "language_info": {
   "codemirror_mode": {
    "name": "ipython",
    "version": 3
   },
   "file_extension": ".py",
   "mimetype": "text/x-python",
   "name": "python",
   "nbconvert_exporter": "python",
   "pygments_lexer": "ipython3",
   "version": "3.12.4"
  }
 },
 "nbformat": 4,
 "nbformat_minor": 5
}
